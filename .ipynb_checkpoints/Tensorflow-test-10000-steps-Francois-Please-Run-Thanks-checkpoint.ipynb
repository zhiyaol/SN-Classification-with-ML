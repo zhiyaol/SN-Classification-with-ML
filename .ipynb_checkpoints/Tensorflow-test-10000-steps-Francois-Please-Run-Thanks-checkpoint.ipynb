{
 "cells": [
  {
   "cell_type": "code",
   "execution_count": 1,
   "metadata": {},
   "outputs": [
    {
     "name": "stdout",
     "output_type": "stream",
     "text": [
      "Populating the interactive namespace from numpy and matplotlib\n"
     ]
    }
   ],
   "source": [
    "%pylab inline\n",
    "from astropy.table import Table\n",
    "from rnn import RNNClassifier\n",
    "import tensorflow as tf\n",
    "import matplotlib.pyplot as plt"
   ]
  },
  {
   "cell_type": "code",
   "execution_count": 4,
   "metadata": {},
   "outputs": [],
   "source": [
    "# Loading dataset\n",
    "data_table = Table.read('normalized_good.fits')"
   ]
  },
  {
   "cell_type": "code",
   "execution_count": 3,
   "metadata": {},
   "outputs": [],
   "source": [
    "# Splitting training and testing data\n",
    "np.random.seed(1234)\n",
    "randomize_inds = range(len(data_table))\n",
    "randomize_inds = permutation(randomize_inds)\n",
    "randomized_inds_train = randomize_inds[0:15000]\n",
    "randomized_inds_test  = randomize_inds[15000:]"
   ]
  },
  {
   "cell_type": "code",
   "execution_count": 4,
   "metadata": {},
   "outputs": [
    {
     "data": {
      "text/plain": [
       "array([16968, 10968,  1867,  9834,  6827,  2981,  3540,  4520, 17130,\n",
       "        2679])"
      ]
     },
     "execution_count": 4,
     "metadata": {},
     "output_type": "execute_result"
    }
   ],
   "source": [
    "randomized_inds_test[0:10]"
   ]
  },
  {
   "cell_type": "code",
   "execution_count": 5,
   "metadata": {},
   "outputs": [],
   "source": [
    "data_table['label'] = 1.0*(data_table['SNTYPE'].astype('int') == 1)"
   ]
  },
  {
   "cell_type": "code",
   "execution_count": 6,
   "metadata": {},
   "outputs": [],
   "source": [
    "# Define input function for training \n",
    "def input_fn_train():\n",
    "    def mapping_function(x):\n",
    "        def extract_batch(inds):\n",
    "            inds = randomized_inds_train[inds]\n",
    "            return data_table['label'][inds].astype('float32'), clip(data_table['num_data_points'][inds],0,49).astype('int32'),data_table['DATA'][inds].astype('float32') \n",
    "        a,b,c =tf.py_func( extract_batch, [x], [tf.float32, tf.int32, tf.float32])\n",
    "        a.set_shape([None])\n",
    "        b.set_shape([None])\n",
    "        c.set_shape([None,50,9])\n",
    "        return a,b,c\n",
    "\n",
    "    dataset = tf.data.Dataset.range(len(randomized_inds_train))\n",
    "    dataset = dataset.repeat().shuffle(10000).batch(512)\n",
    "    dataset = dataset.map( mapping_function)\n",
    "    iterator = dataset.make_one_shot_iterator()\n",
    "    label, length, ts = iterator.get_next()\n",
    "    return  {'length':length, 'ts':ts}, label\n",
    "\n",
    "def input_fn_train_test():\n",
    "    def mapping_function(x):\n",
    "        def extract_batch(inds):\n",
    "            inds = randomized_inds_train[inds]\n",
    "            return data_table['label'][inds].astype('float32'), clip(data_table['num_data_points'][inds],0,49).astype('int32'),data_table['DATA'][inds].astype('float32')\n",
    "        a,b,c =tf.py_func( extract_batch, [x], [tf.float32, tf.int32, tf.float32])\n",
    "        a.set_shape([None])\n",
    "        b.set_shape([None])\n",
    "        c.set_shape([None,50,9])\n",
    "        return a,b,c\n",
    "\n",
    "    dataset = tf.data.Dataset.range(len(randomized_inds_train))\n",
    "    dataset = dataset.batch(512)\n",
    "    dataset = dataset.map( mapping_function)\n",
    "    iterator = dataset.make_one_shot_iterator()\n",
    "    label, length, ts = iterator.get_next()\n",
    "    return  {'length':length, 'ts':ts}, label\n",
    "\n",
    "def input_fn_test():\n",
    "    def mapping_function(x):\n",
    "        def extract_batch(inds):\n",
    "            inds = randomized_inds_test[inds]\n",
    "            return data_table['label'][inds].astype('float32'), clip(data_table['num_data_points'][inds],0,49).astype('int32'),data_table['DATA'][inds].astype('float32') \n",
    "        a,b,c =tf.py_func( extract_batch, [x], [tf.float32, tf.int32, tf.float32])\n",
    "        a.set_shape([None])\n",
    "        b.set_shape([None])\n",
    "        c.set_shape([None,50,9])\n",
    "        return a,b,c\n",
    "\n",
    "    dataset = tf.data.Dataset.range(len(randomized_inds_test))\n",
    "    dataset = dataset.batch(512)\n",
    "    dataset = dataset.map( mapping_function)\n",
    "    iterator = dataset.make_one_shot_iterator()\n",
    "    label, length, ts = iterator.get_next()\n",
    "    return  {'length':length, 'ts':ts}, label"
   ]
  },
  {
   "cell_type": "code",
   "execution_count": 7,
   "metadata": {},
   "outputs": [
    {
     "name": "stdout",
     "output_type": "stream",
     "text": [
      "INFO:tensorflow:Using default config.\n",
      "INFO:tensorflow:Using config: {'_model_dir': 'tests/test_5', '_tf_random_seed': None, '_save_summary_steps': 100, '_save_checkpoints_steps': None, '_save_checkpoints_secs': 600, '_session_config': None, '_keep_checkpoint_max': 5, '_keep_checkpoint_every_n_hours': 10000, '_log_step_count_steps': 100, '_train_distribute': None, '_device_fn': None, '_service': None, '_cluster_spec': <tensorflow.python.training.server_lib.ClusterSpec object at 0x7f9545d41ef0>, '_task_type': 'worker', '_task_id': 0, '_global_id_in_cluster': 0, '_master': '', '_evaluation_master': '', '_is_chief': True, '_num_ps_replicas': 0, '_num_worker_replicas': 1}\n"
     ]
    }
   ],
   "source": [
    "#model = RNNClassifier(hidden_units=[128, 128], dropout=1, model_dir='tests/test_1')\n",
    "#model = RNNClassifier(hidden_units=[128, 128], dropout=0.8, model_dir='tests/test_2')\n",
    "model = RNNClassifier(hidden_units=[128, 128], dropout=0.8, model_dir='tests/test_6')"
   ]
  },
  {
   "cell_type": "code",
   "execution_count": 8,
   "metadata": {},
   "outputs": [
    {
     "name": "stdout",
     "output_type": "stream",
     "text": [
      "INFO:tensorflow:Calling model_fn.\n",
      "INFO:tensorflow:Done calling model_fn.\n",
      "INFO:tensorflow:Create CheckpointSaverHook.\n",
      "INFO:tensorflow:Graph was finalized.\n",
      "INFO:tensorflow:Running local_init_op.\n",
      "INFO:tensorflow:Done running local_init_op.\n",
      "INFO:tensorflow:Saving checkpoints for 0 into tests/test_5/model.ckpt.\n",
      "INFO:tensorflow:loss = 0.6829017, step = 0\n",
      "INFO:tensorflow:global_step/sec: 17.0567\n",
      "INFO:tensorflow:loss = 0.5009535, step = 100 (5.864 sec)\n",
      "INFO:tensorflow:global_step/sec: 17.6984\n",
      "INFO:tensorflow:loss = 0.2535687, step = 200 (5.650 sec)\n",
      "INFO:tensorflow:global_step/sec: 17.7088\n",
      "INFO:tensorflow:loss = 0.20246531, step = 300 (5.647 sec)\n",
      "INFO:tensorflow:global_step/sec: 17.7007\n",
      "INFO:tensorflow:loss = 0.21160588, step = 400 (5.649 sec)\n",
      "INFO:tensorflow:global_step/sec: 17.7183\n",
      "INFO:tensorflow:loss = 0.2248326, step = 500 (5.644 sec)\n",
      "INFO:tensorflow:global_step/sec: 17.714\n",
      "INFO:tensorflow:loss = 0.16444008, step = 600 (5.645 sec)\n",
      "INFO:tensorflow:global_step/sec: 17.6656\n",
      "INFO:tensorflow:loss = 0.18055925, step = 700 (5.661 sec)\n",
      "INFO:tensorflow:global_step/sec: 17.7251\n",
      "INFO:tensorflow:loss = 0.14270434, step = 800 (5.642 sec)\n",
      "INFO:tensorflow:global_step/sec: 17.6869\n",
      "INFO:tensorflow:loss = 0.08938524, step = 900 (5.654 sec)\n",
      "INFO:tensorflow:global_step/sec: 17.7346\n",
      "INFO:tensorflow:loss = 0.18049318, step = 1000 (5.639 sec)\n",
      "INFO:tensorflow:global_step/sec: 17.691\n",
      "INFO:tensorflow:loss = 0.15789391, step = 1100 (5.652 sec)\n",
      "INFO:tensorflow:global_step/sec: 17.7058\n",
      "INFO:tensorflow:loss = 0.13972299, step = 1200 (5.648 sec)\n",
      "INFO:tensorflow:global_step/sec: 17.686\n",
      "INFO:tensorflow:loss = 0.14913253, step = 1300 (5.654 sec)\n",
      "INFO:tensorflow:global_step/sec: 17.6491\n",
      "INFO:tensorflow:loss = 0.17811316, step = 1400 (5.666 sec)\n",
      "INFO:tensorflow:global_step/sec: 17.6595\n",
      "INFO:tensorflow:loss = 0.14718181, step = 1500 (5.663 sec)\n",
      "INFO:tensorflow:global_step/sec: 17.6227\n",
      "INFO:tensorflow:loss = 0.1260458, step = 1600 (5.674 sec)\n",
      "INFO:tensorflow:global_step/sec: 17.6345\n",
      "INFO:tensorflow:loss = 0.10290266, step = 1700 (5.671 sec)\n",
      "INFO:tensorflow:global_step/sec: 17.7057\n",
      "INFO:tensorflow:loss = 0.09668805, step = 1800 (5.648 sec)\n",
      "INFO:tensorflow:global_step/sec: 17.6844\n",
      "INFO:tensorflow:loss = 0.1550689, step = 1900 (5.655 sec)\n",
      "INFO:tensorflow:global_step/sec: 17.6792\n",
      "INFO:tensorflow:loss = 0.15319768, step = 2000 (5.656 sec)\n",
      "INFO:tensorflow:global_step/sec: 17.6887\n",
      "INFO:tensorflow:loss = 0.089734316, step = 2100 (5.653 sec)\n",
      "INFO:tensorflow:global_step/sec: 17.7263\n",
      "INFO:tensorflow:loss = 0.1444148, step = 2200 (5.641 sec)\n",
      "INFO:tensorflow:global_step/sec: 17.6721\n",
      "INFO:tensorflow:loss = 0.09725109, step = 2300 (5.659 sec)\n",
      "INFO:tensorflow:global_step/sec: 17.6783\n",
      "INFO:tensorflow:loss = 0.13593413, step = 2400 (5.657 sec)\n",
      "INFO:tensorflow:global_step/sec: 17.7071\n",
      "INFO:tensorflow:loss = 0.114490665, step = 2500 (5.647 sec)\n",
      "INFO:tensorflow:global_step/sec: 17.6702\n",
      "INFO:tensorflow:loss = 0.14766625, step = 2600 (5.659 sec)\n",
      "INFO:tensorflow:global_step/sec: 17.6363\n",
      "INFO:tensorflow:loss = 0.13108584, step = 2700 (5.670 sec)\n",
      "INFO:tensorflow:global_step/sec: 17.7463\n",
      "INFO:tensorflow:loss = 0.12594685, step = 2800 (5.635 sec)\n",
      "INFO:tensorflow:global_step/sec: 17.7299\n",
      "INFO:tensorflow:loss = 0.12325092, step = 2900 (5.640 sec)\n",
      "INFO:tensorflow:global_step/sec: 17.7028\n",
      "INFO:tensorflow:loss = 0.14297834, step = 3000 (5.649 sec)\n",
      "INFO:tensorflow:global_step/sec: 17.6932\n",
      "INFO:tensorflow:loss = 0.10852344, step = 3100 (5.652 sec)\n",
      "INFO:tensorflow:global_step/sec: 17.6713\n",
      "INFO:tensorflow:loss = 0.10606246, step = 3200 (5.659 sec)\n",
      "INFO:tensorflow:global_step/sec: 17.6394\n",
      "INFO:tensorflow:loss = 0.1230557, step = 3300 (5.669 sec)\n",
      "INFO:tensorflow:global_step/sec: 17.6856\n",
      "INFO:tensorflow:loss = 0.111522175, step = 3400 (5.654 sec)\n",
      "INFO:tensorflow:global_step/sec: 17.6715\n",
      "INFO:tensorflow:loss = 0.105945125, step = 3500 (5.659 sec)\n",
      "INFO:tensorflow:global_step/sec: 17.738\n",
      "INFO:tensorflow:loss = 0.11086715, step = 3600 (5.638 sec)\n",
      "INFO:tensorflow:global_step/sec: 17.6598\n",
      "INFO:tensorflow:loss = 0.13838504, step = 3700 (5.663 sec)\n",
      "INFO:tensorflow:global_step/sec: 17.7107\n",
      "INFO:tensorflow:loss = 0.11352227, step = 3800 (5.646 sec)\n",
      "INFO:tensorflow:global_step/sec: 17.6819\n",
      "INFO:tensorflow:loss = 0.16871168, step = 3900 (5.655 sec)\n",
      "INFO:tensorflow:global_step/sec: 17.7058\n",
      "INFO:tensorflow:loss = 0.1276289, step = 4000 (5.648 sec)\n",
      "INFO:tensorflow:global_step/sec: 17.6675\n",
      "INFO:tensorflow:loss = 0.10418598, step = 4100 (5.660 sec)\n",
      "INFO:tensorflow:global_step/sec: 17.7099\n",
      "INFO:tensorflow:loss = 0.11023851, step = 4200 (5.646 sec)\n",
      "INFO:tensorflow:global_step/sec: 17.6123\n",
      "INFO:tensorflow:loss = 0.13881014, step = 4300 (5.678 sec)\n",
      "INFO:tensorflow:global_step/sec: 17.6394\n",
      "INFO:tensorflow:loss = 0.124014154, step = 4400 (5.669 sec)\n",
      "INFO:tensorflow:global_step/sec: 17.6531\n",
      "INFO:tensorflow:loss = 0.124283925, step = 4500 (5.665 sec)\n",
      "INFO:tensorflow:global_step/sec: 17.6284\n",
      "INFO:tensorflow:loss = 0.121824436, step = 4600 (5.673 sec)\n",
      "INFO:tensorflow:global_step/sec: 17.6492\n",
      "INFO:tensorflow:loss = 0.1276798, step = 4700 (5.666 sec)\n",
      "INFO:tensorflow:global_step/sec: 17.6114\n",
      "INFO:tensorflow:loss = 0.1432116, step = 4800 (5.678 sec)\n",
      "INFO:tensorflow:global_step/sec: 17.6117\n",
      "INFO:tensorflow:loss = 0.12964284, step = 4900 (5.678 sec)\n",
      "INFO:tensorflow:global_step/sec: 17.6581\n",
      "INFO:tensorflow:loss = 0.12629649, step = 5000 (5.663 sec)\n",
      "INFO:tensorflow:global_step/sec: 17.638\n",
      "INFO:tensorflow:loss = 0.13784686, step = 5100 (5.670 sec)\n",
      "INFO:tensorflow:global_step/sec: 17.621\n",
      "INFO:tensorflow:loss = 0.10089154, step = 5200 (5.675 sec)\n",
      "INFO:tensorflow:global_step/sec: 17.557\n",
      "INFO:tensorflow:loss = 0.13885999, step = 5300 (5.696 sec)\n",
      "INFO:tensorflow:global_step/sec: 17.6346\n",
      "INFO:tensorflow:loss = 0.14139943, step = 5400 (5.671 sec)\n",
      "INFO:tensorflow:global_step/sec: 17.627\n",
      "INFO:tensorflow:loss = 0.119802475, step = 5500 (5.673 sec)\n",
      "INFO:tensorflow:global_step/sec: 17.6522\n",
      "INFO:tensorflow:loss = 0.11788381, step = 5600 (5.665 sec)\n",
      "INFO:tensorflow:global_step/sec: 17.6217\n",
      "INFO:tensorflow:loss = 0.09265898, step = 5700 (5.675 sec)\n",
      "INFO:tensorflow:global_step/sec: 17.6811\n",
      "INFO:tensorflow:loss = 0.12419193, step = 5800 (5.656 sec)\n",
      "INFO:tensorflow:global_step/sec: 17.6263\n",
      "INFO:tensorflow:loss = 0.13081674, step = 5900 (5.673 sec)\n",
      "INFO:tensorflow:global_step/sec: 17.7181\n",
      "INFO:tensorflow:loss = 0.09958563, step = 6000 (5.644 sec)\n",
      "INFO:tensorflow:global_step/sec: 17.6541\n",
      "INFO:tensorflow:loss = 0.11576097, step = 6100 (5.664 sec)\n",
      "INFO:tensorflow:global_step/sec: 17.7216\n",
      "INFO:tensorflow:loss = 0.12648076, step = 6200 (5.643 sec)\n",
      "INFO:tensorflow:global_step/sec: 17.6675\n",
      "INFO:tensorflow:loss = 0.14209218, step = 6300 (5.660 sec)\n",
      "INFO:tensorflow:global_step/sec: 17.7465\n",
      "INFO:tensorflow:loss = 0.123285614, step = 6400 (5.635 sec)\n",
      "INFO:tensorflow:global_step/sec: 17.6435\n",
      "INFO:tensorflow:loss = 0.1340352, step = 6500 (5.668 sec)\n",
      "INFO:tensorflow:global_step/sec: 17.7243\n",
      "INFO:tensorflow:loss = 0.12380947, step = 6600 (5.642 sec)\n",
      "INFO:tensorflow:global_step/sec: 17.6647\n",
      "INFO:tensorflow:loss = 0.09894508, step = 6700 (5.661 sec)\n",
      "INFO:tensorflow:global_step/sec: 17.7117\n",
      "INFO:tensorflow:loss = 0.115402825, step = 6800 (5.646 sec)\n",
      "INFO:tensorflow:global_step/sec: 17.7177\n",
      "INFO:tensorflow:loss = 0.07416584, step = 6900 (5.644 sec)\n",
      "INFO:tensorflow:global_step/sec: 17.7374\n",
      "INFO:tensorflow:loss = 0.13039565, step = 7000 (5.638 sec)\n",
      "INFO:tensorflow:global_step/sec: 17.7129\n",
      "INFO:tensorflow:loss = 0.103875406, step = 7100 (5.646 sec)\n",
      "INFO:tensorflow:global_step/sec: 17.6981\n",
      "INFO:tensorflow:loss = 0.118612684, step = 7200 (5.650 sec)\n",
      "INFO:tensorflow:global_step/sec: 17.6622\n",
      "INFO:tensorflow:loss = 0.11974682, step = 7300 (5.662 sec)\n",
      "INFO:tensorflow:global_step/sec: 17.7131\n",
      "INFO:tensorflow:loss = 0.12595534, step = 7400 (5.645 sec)\n",
      "INFO:tensorflow:global_step/sec: 17.7064\n",
      "INFO:tensorflow:loss = 0.1167383, step = 7500 (5.648 sec)\n",
      "INFO:tensorflow:global_step/sec: 17.6646\n",
      "INFO:tensorflow:loss = 0.114082396, step = 7600 (5.661 sec)\n",
      "INFO:tensorflow:global_step/sec: 17.7111\n",
      "INFO:tensorflow:loss = 0.109750085, step = 7700 (5.646 sec)\n",
      "INFO:tensorflow:global_step/sec: 17.6761\n",
      "INFO:tensorflow:loss = 0.09825973, step = 7800 (5.657 sec)\n",
      "INFO:tensorflow:global_step/sec: 17.6475\n",
      "INFO:tensorflow:loss = 0.106686026, step = 7900 (5.667 sec)\n"
     ]
    },
    {
     "name": "stdout",
     "output_type": "stream",
     "text": [
      "INFO:tensorflow:global_step/sec: 17.672\n",
      "INFO:tensorflow:loss = 0.10207362, step = 8000 (5.659 sec)\n",
      "INFO:tensorflow:global_step/sec: 17.6845\n",
      "INFO:tensorflow:loss = 0.14945957, step = 8100 (5.655 sec)\n",
      "INFO:tensorflow:global_step/sec: 17.7102\n",
      "INFO:tensorflow:loss = 0.132005, step = 8200 (5.646 sec)\n",
      "INFO:tensorflow:global_step/sec: 17.7015\n",
      "INFO:tensorflow:loss = 0.08925619, step = 8300 (5.649 sec)\n",
      "INFO:tensorflow:global_step/sec: 17.665\n",
      "INFO:tensorflow:loss = 0.10857395, step = 8400 (5.661 sec)\n",
      "INFO:tensorflow:global_step/sec: 17.6899\n",
      "INFO:tensorflow:loss = 0.13210581, step = 8500 (5.653 sec)\n",
      "INFO:tensorflow:global_step/sec: 17.7405\n",
      "INFO:tensorflow:loss = 0.13521011, step = 8600 (5.637 sec)\n",
      "INFO:tensorflow:global_step/sec: 17.6322\n",
      "INFO:tensorflow:loss = 0.11944683, step = 8700 (5.672 sec)\n",
      "INFO:tensorflow:global_step/sec: 17.6883\n",
      "INFO:tensorflow:loss = 0.11658243, step = 8800 (5.653 sec)\n",
      "INFO:tensorflow:global_step/sec: 17.6596\n",
      "INFO:tensorflow:loss = 0.10612097, step = 8900 (5.663 sec)\n",
      "INFO:tensorflow:global_step/sec: 17.6854\n",
      "INFO:tensorflow:loss = 0.10138266, step = 9000 (5.654 sec)\n",
      "INFO:tensorflow:global_step/sec: 17.6851\n",
      "INFO:tensorflow:loss = 0.1155875, step = 9100 (5.655 sec)\n",
      "INFO:tensorflow:global_step/sec: 17.6938\n",
      "INFO:tensorflow:loss = 0.09270579, step = 9200 (5.652 sec)\n",
      "INFO:tensorflow:global_step/sec: 17.7088\n",
      "INFO:tensorflow:loss = 0.13212876, step = 9300 (5.647 sec)\n",
      "INFO:tensorflow:global_step/sec: 17.6743\n",
      "INFO:tensorflow:loss = 0.10518531, step = 9400 (5.658 sec)\n",
      "INFO:tensorflow:global_step/sec: 17.7281\n",
      "INFO:tensorflow:loss = 0.0829264, step = 9500 (5.641 sec)\n",
      "INFO:tensorflow:global_step/sec: 17.6771\n",
      "INFO:tensorflow:loss = 0.10638806, step = 9600 (5.657 sec)\n",
      "INFO:tensorflow:global_step/sec: 17.6927\n",
      "INFO:tensorflow:loss = 0.13567168, step = 9700 (5.652 sec)\n",
      "INFO:tensorflow:global_step/sec: 17.7385\n",
      "INFO:tensorflow:loss = 0.10667578, step = 9800 (5.637 sec)\n",
      "INFO:tensorflow:global_step/sec: 17.6736\n",
      "INFO:tensorflow:loss = 0.12132106, step = 9900 (5.658 sec)\n",
      "INFO:tensorflow:Saving checkpoints for 10000 into tests/test_5/model.ckpt.\n",
      "INFO:tensorflow:Loss for final step: 0.13982502.\n"
     ]
    },
    {
     "data": {
      "text/plain": [
       "<rnn.RNNClassifier at 0x7f9545d41e10>"
      ]
     },
     "execution_count": 8,
     "metadata": {},
     "output_type": "execute_result"
    }
   ],
   "source": [
    "model.train(input_fn=input_fn_train, steps=10000)"
   ]
  },
  {
   "cell_type": "code",
   "execution_count": null,
   "metadata": {},
   "outputs": [],
   "source": [
    "#Francois thank you so much!"
   ]
  },
  {
   "cell_type": "code",
   "execution_count": 9,
   "metadata": {},
   "outputs": [
    {
     "name": "stdout",
     "output_type": "stream",
     "text": [
      "INFO:tensorflow:Calling model_fn.\n",
      "INFO:tensorflow:Done calling model_fn.\n",
      "INFO:tensorflow:Graph was finalized.\n",
      "INFO:tensorflow:Restoring parameters from tests/test_5/model.ckpt-10000\n",
      "INFO:tensorflow:Running local_init_op.\n",
      "INFO:tensorflow:Done running local_init_op.\n"
     ]
    }
   ],
   "source": [
    "# Apply model to test set\n",
    "test_prob = [p['prob'] for p in model.predict(input_fn_test)]\n",
    "table_test = data_table[randomized_inds_test]\n",
    "table_test['p'] = test_prob"
   ]
  },
  {
   "cell_type": "code",
   "execution_count": 10,
   "metadata": {},
   "outputs": [
    {
     "name": "stdout",
     "output_type": "stream",
     "text": [
      "INFO:tensorflow:Calling model_fn.\n",
      "INFO:tensorflow:Done calling model_fn.\n",
      "INFO:tensorflow:Graph was finalized.\n",
      "INFO:tensorflow:Restoring parameters from tests/test_5/model.ckpt-10000\n",
      "INFO:tensorflow:Running local_init_op.\n",
      "INFO:tensorflow:Done running local_init_op.\n"
     ]
    }
   ],
   "source": [
    "# Apply model to training set\n",
    "train_prob = [p['prob'] for p in model.predict(input_fn_train_test)]\n",
    "table_train = data_table[randomized_inds_train]\n",
    "table_train['p'] = train_prob"
   ]
  },
  {
   "cell_type": "code",
   "execution_count": 11,
   "metadata": {},
   "outputs": [
    {
     "data": {
      "image/png": "[encoded data removed]",
      "text/plain": [
       "<Figure size 432x288 with 1 Axes>"
      ]
     },
     "metadata": {},
     "output_type": "display_data"
    }
   ],
   "source": [
    "hist(test_prob,100);"
   ]
  },
  {
   "cell_type": "code",
   "execution_count": 12,
   "metadata": {},
   "outputs": [
    {
     "data": {
      "image/png": "[encoded data removed]",
      "text/plain": [
       "<Figure size 432x288 with 1 Axes>"
      ]
     },
     "metadata": {},
     "output_type": "display_data"
    }
   ],
   "source": [
    "hist(train_prob,100);"
   ]
  },
  {
   "cell_type": "code",
   "execution_count": 13,
   "metadata": {},
   "outputs": [
    {
     "name": "stderr",
     "output_type": "stream",
     "text": [
      "/usr/lib/python3.6/site-packages/matplotlib/cbook/deprecation.py:107: MatplotlibDeprecationWarning: Passing one of 'on', 'true', 'off', 'false' as a boolean is deprecated; use an actual boolean (True/False) instead.\n",
      "  warnings.warn(message, mplDeprecation, stacklevel=1)\n"
     ]
    },
    {
     "data": {
      "text/plain": [
       "(0, 1)"
      ]
     },
     "execution_count": 13,
     "metadata": {},
     "output_type": "execute_result"
    },
    {
     "data": {
      "image/png": "[encoded data removed]",
      "text/plain": [
       "<Figure size 432x288 with 1 Axes>"
      ]
     },
     "metadata": {},
     "output_type": "display_data"
    }
   ],
   "source": [
    "# Compute ROC curves \n",
    "from sklearn.metrics import roc_curve\n",
    "\n",
    "fpr1, tpr1, thr1 = roc_curve(table_train['label'], table_train['p'])\n",
    "fpr2, tpr2, thr2 = roc_curve(table_test['label'], table_test['p'])\n",
    "\n",
    "plot(fpr1, tpr1,label='training set')\n",
    "plot(fpr2, tpr2,label='testing set')\n",
    "title(\"roc curve fp_tp\")\n",
    "xlabel('false positive rate')\n",
    "ylabel('true positive rate')\n",
    "grid('on')\n",
    "#xscale('log')\n",
    "legend()\n",
    "axhline(0.661)\n",
    "xlim(0,1)\n",
    "ylim(0,1)"
   ]
  },
  {
   "cell_type": "code",
   "execution_count": 14,
   "metadata": {},
   "outputs": [],
   "source": [
    "from sklearn.metrics import roc_auc_score"
   ]
  },
  {
   "cell_type": "code",
   "execution_count": 15,
   "metadata": {},
   "outputs": [
    {
     "data": {
      "text/plain": [
       "0.9332667462082419"
      ]
     },
     "execution_count": 15,
     "metadata": {},
     "output_type": "execute_result"
    }
   ],
   "source": [
    "roc_auc_score(table_train['label'], table_train['p'])"
   ]
  },
  {
   "cell_type": "code",
   "execution_count": 16,
   "metadata": {},
   "outputs": [
    {
     "data": {
      "text/plain": [
       "0.9186332209588024"
      ]
     },
     "execution_count": 16,
     "metadata": {},
     "output_type": "execute_result"
    }
   ],
   "source": [
    "roc_auc_score(table_test['label'], table_test['p'])"
   ]
  },
  {
   "cell_type": "code",
   "execution_count": 17,
   "metadata": {},
   "outputs": [
    {
     "name": "stderr",
     "output_type": "stream",
     "text": [
      "/usr/lib/python3.6/site-packages/matplotlib/cbook/deprecation.py:107: MatplotlibDeprecationWarning: Passing one of 'on', 'true', 'off', 'false' as a boolean is deprecated; use an actual boolean (True/False) instead.\n",
      "  warnings.warn(message, mplDeprecation, stacklevel=1)\n"
     ]
    },
    {
     "data": {
      "text/plain": [
       "<matplotlib.lines.Line2D at 0x7f952c3bd898>"
      ]
     },
     "execution_count": 17,
     "metadata": {},
     "output_type": "execute_result"
    },
    {
     "data": {
      "image/png": "[encoded data removed]",
      "text/plain": [
       "<Figure size 432x288 with 1 Axes>"
      ]
     },
     "metadata": {},
     "output_type": "display_data"
    }
   ],
   "source": [
    "plot(thr1,fpr1,label='train')\n",
    "plot(thr2, fpr2,label='test')\n",
    "title(\"roc curve thr_fp\")\n",
    "xlabel('threshold')\n",
    "ylabel('false positive rate')\n",
    "grid('on')\n",
    "legend()\n",
    "axvline(0.0043)"
   ]
  },
  {
   "cell_type": "code",
   "execution_count": 18,
   "metadata": {},
   "outputs": [
    {
     "name": "stderr",
     "output_type": "stream",
     "text": [
      "/usr/lib/python3.6/site-packages/matplotlib/cbook/deprecation.py:107: MatplotlibDeprecationWarning: Passing one of 'on', 'true', 'off', 'false' as a boolean is deprecated; use an actual boolean (True/False) instead.\n",
      "  warnings.warn(message, mplDeprecation, stacklevel=1)\n"
     ]
    },
    {
     "data": {
      "text/plain": [
       "<matplotlib.lines.Line2D at 0x7f9540221ba8>"
      ]
     },
     "execution_count": 18,
     "metadata": {},
     "output_type": "execute_result"
    },
    {
     "data": {
      "image/png": "[encoded data removed]",
      "text/plain": [
       "<Figure size 432x288 with 1 Axes>"
      ]
     },
     "metadata": {},
     "output_type": "display_data"
    }
   ],
   "source": [
    "plot(thr1,tpr1,label='train')\n",
    "plot(thr2, tpr2,label='test')\n",
    "title(\"roc curve thr_tp\")\n",
    "xlabel('threshold')\n",
    "ylabel('true positive rate')\n",
    "grid('on')\n",
    "legend()\n",
    "axvline(0.0043)"
   ]
  },
  {
   "cell_type": "code",
   "execution_count": null,
   "metadata": {},
   "outputs": [],
   "source": []
  }
 ],
 "metadata": {
  "kernelspec": {
   "display_name": "Python 3",
   "language": "python",
   "name": "python3"
  },
  "language_info": {
   "codemirror_mode": {
    "name": "ipython",
    "version": 3
   },
   "file_extension": ".py",
   "mimetype": "text/x-python",
   "name": "python",
   "nbconvert_exporter": "python",
   "pygments_lexer": "ipython3",
   "version": "3.6.5"
  }
 },
 "nbformat": 4,
 "nbformat_minor": 2
}
