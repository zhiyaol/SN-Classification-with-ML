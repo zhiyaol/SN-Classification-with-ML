{
 "cells": [
  {
   "cell_type": "code",
   "execution_count": 2,
   "metadata": {},
   "outputs": [
    {
     "name": "stdout",
     "output_type": "stream",
     "text": [
      "Populating the interactive namespace from numpy and matplotlib\n"
     ]
    }
   ],
   "source": [
    "%pylab inline\n",
    "from astropy.table import Table\n",
    "from rnn import RNNClassifier\n",
    "import tensorflow as tf\n",
    "import matplotlib.pyplot as plt"
   ]
  },
  {
   "cell_type": "code",
   "execution_count": 3,
   "metadata": {},
   "outputs": [],
   "source": [
    "# Loading dataset\n",
    "data_table = Table.read('normalized_sub_mean.fits')"
   ]
  },
  {
   "cell_type": "code",
   "execution_count": 4,
   "metadata": {},
   "outputs": [],
   "source": [
    "# Splitting training and testing data\n",
    "randomize_inds = range(len(data_table))\n",
    "randomize_inds = permutation(randomize_inds)\n",
    "randomized_inds_train = randomize_inds[0:15000]\n",
    "randomized_inds_test  = randomize_inds[15000:]"
   ]
  },
  {
   "cell_type": "code",
   "execution_count": 5,
   "metadata": {},
   "outputs": [],
   "source": [
    "data_table['label'] = 1.0*(data_table['SNTYPE'].astype('int') == 1)"
   ]
  },
  {
   "cell_type": "code",
   "execution_count": 6,
   "metadata": {},
   "outputs": [],
   "source": [
    "# Define input function for training \n",
    "def input_fn_train():\n",
    "    def mapping_function(x):\n",
    "        def extract_batch(inds):\n",
    "            inds = randomized_inds_train[inds]\n",
    "            return data_table['label'][inds].astype('float32'), clip(data_table['num_data_points'][inds],0,49).astype('int32'),data_table['DATA'][inds].astype('float32') \n",
    "        a,b,c =tf.py_func( extract_batch, [x], [tf.float32, tf.int32, tf.float32])\n",
    "        a.set_shape([None])\n",
    "        b.set_shape([None])\n",
    "        c.set_shape([None,50,9])\n",
    "        return a,b,c\n",
    "\n",
    "    dataset = tf.data.Dataset.range(len(randomized_inds_train))\n",
    "    dataset = dataset.repeat().shuffle(10000).batch(512)\n",
    "    dataset = dataset.map( mapping_function)\n",
    "    iterator = dataset.make_one_shot_iterator()\n",
    "    label, length, ts = iterator.get_next()\n",
    "    return  {'length':length, 'ts':ts}, label\n",
    "\n",
    "def input_fn_train_test():\n",
    "    def mapping_function(x):\n",
    "        def extract_batch(inds):\n",
    "            inds = randomized_inds_train[inds]\n",
    "            return data_table['label'][inds].astype('float32'), clip(data_table['num_data_points'][inds],0,49).astype('int32'),data_table['DATA'][inds].astype('float32')\n",
    "        a,b,c =tf.py_func( extract_batch, [x], [tf.float32, tf.int32, tf.float32])\n",
    "        a.set_shape([None])\n",
    "        b.set_shape([None])\n",
    "        c.set_shape([None,50,9])\n",
    "        return a,b,c\n",
    "\n",
    "    dataset = tf.data.Dataset.range(len(randomized_inds_train))\n",
    "    dataset = dataset.batch(512)\n",
    "    dataset = dataset.map( mapping_function)\n",
    "    iterator = dataset.make_one_shot_iterator()\n",
    "    label, length, ts = iterator.get_next()\n",
    "    return  {'length':length, 'ts':ts}, label\n",
    "\n",
    "def input_fn_test():\n",
    "    def mapping_function(x):\n",
    "        def extract_batch(inds):\n",
    "            inds = randomized_inds_test[inds]\n",
    "            return data_table['label'][inds].astype('float32'), clip(data_table['num_data_points'][inds],0,49).astype('int32'),data_table['DATA'][inds].astype('float32') \n",
    "        a,b,c =tf.py_func( extract_batch, [x], [tf.float32, tf.int32, tf.float32])\n",
    "        a.set_shape([None])\n",
    "        b.set_shape([None])\n",
    "        c.set_shape([None,50,9])\n",
    "        return a,b,c\n",
    "\n",
    "    dataset = tf.data.Dataset.range(len(randomized_inds_test))\n",
    "    dataset = dataset.batch(512)\n",
    "    dataset = dataset.map( mapping_function)\n",
    "    iterator = dataset.make_one_shot_iterator()\n",
    "    label, length, ts = iterator.get_next()\n",
    "    return  {'length':length, 'ts':ts}, label"
   ]
  },
  {
   "cell_type": "code",
   "execution_count": 21,
   "metadata": {},
   "outputs": [
    {
     "name": "stdout",
     "output_type": "stream",
     "text": [
      "INFO:tensorflow:Using default config.\n",
      "INFO:tensorflow:Using config: {'_model_dir': 'tests/test_2', '_tf_random_seed': None, '_save_summary_steps': 100, '_save_checkpoints_steps': None, '_save_checkpoints_secs': 600, '_session_config': None, '_keep_checkpoint_max': 5, '_keep_checkpoint_every_n_hours': 10000, '_log_step_count_steps': 100, '_train_distribute': None, '_service': None, '_cluster_spec': <tensorflow.python.training.server_lib.ClusterSpec object at 0x127c19c88>, '_task_type': 'worker', '_task_id': 0, '_global_id_in_cluster': 0, '_master': '', '_evaluation_master': '', '_is_chief': True, '_num_ps_replicas': 0, '_num_worker_replicas': 1}\n"
     ]
    }
   ],
   "source": [
    "model = RNNClassifier(hidden_units=[128, 128], dropout=0.8, model_dir='tests/test_2')"
   ]
  },
  {
   "cell_type": "code",
   "execution_count": 8,
   "metadata": {},
   "outputs": [
    {
     "name": "stdout",
     "output_type": "stream",
     "text": [
      "INFO:tensorflow:Calling model_fn.\n",
      "INFO:tensorflow:Done calling model_fn.\n",
      "INFO:tensorflow:Create CheckpointSaverHook.\n",
      "INFO:tensorflow:Graph was finalized.\n",
      "INFO:tensorflow:Running local_init_op.\n",
      "INFO:tensorflow:Done running local_init_op.\n",
      "INFO:tensorflow:Saving checkpoints for 1 into tests/test_2/model.ckpt.\n",
      "INFO:tensorflow:loss = 0.7008716, step = 1\n",
      "INFO:tensorflow:global_step/sec: 0.822014\n",
      "INFO:tensorflow:loss = 0.50986665, step = 101 (121.652 sec)\n",
      "INFO:tensorflow:global_step/sec: 0.834719\n",
      "INFO:tensorflow:loss = 0.25507087, step = 201 (119.800 sec)\n",
      "INFO:tensorflow:global_step/sec: 0.901418\n",
      "INFO:tensorflow:loss = 0.22693744, step = 301 (110.937 sec)\n",
      "INFO:tensorflow:global_step/sec: 0.939553\n",
      "INFO:tensorflow:loss = 0.17861459, step = 401 (106.434 sec)\n",
      "INFO:tensorflow:global_step/sec: 0.93528\n",
      "INFO:tensorflow:loss = 0.17280842, step = 501 (106.920 sec)\n",
      "INFO:tensorflow:Saving checkpoints for 530 into tests/test_2/model.ckpt.\n",
      "INFO:tensorflow:global_step/sec: 0.788666\n",
      "INFO:tensorflow:loss = 0.1887572, step = 601 (126.809 sec)\n",
      "INFO:tensorflow:global_step/sec: 0.841867\n",
      "INFO:tensorflow:loss = 0.17128076, step = 701 (118.771 sec)\n",
      "INFO:tensorflow:global_step/sec: 0.885237\n",
      "INFO:tensorflow:loss = 0.1663095, step = 801 (112.966 sec)\n",
      "INFO:tensorflow:global_step/sec: 0.869611\n",
      "INFO:tensorflow:loss = 0.16516197, step = 901 (114.992 sec)\n",
      "INFO:tensorflow:global_step/sec: 0.923056\n",
      "INFO:tensorflow:loss = 0.17076688, step = 1001 (108.338 sec)\n",
      "INFO:tensorflow:Saving checkpoints for 1052 into tests/test_2/model.ckpt.\n",
      "INFO:tensorflow:global_step/sec: 0.938441\n",
      "INFO:tensorflow:loss = 0.11275777, step = 1101 (106.557 sec)\n",
      "INFO:tensorflow:global_step/sec: 0.9321\n",
      "INFO:tensorflow:loss = 0.16242033, step = 1201 (107.286 sec)\n",
      "INFO:tensorflow:global_step/sec: 0.917283\n",
      "INFO:tensorflow:loss = 0.16454521, step = 1301 (109.017 sec)\n",
      "INFO:tensorflow:global_step/sec: 0.863174\n",
      "INFO:tensorflow:loss = 0.13394606, step = 1401 (115.852 sec)\n",
      "INFO:tensorflow:Saving checkpoints for 1500 into tests/test_2/model.ckpt.\n",
      "INFO:tensorflow:Loss for final step: 0.17948693.\n"
     ]
    },
    {
     "data": {
      "text/plain": [
       "<rnn.RNNClassifier at 0x1215d9828>"
      ]
     },
     "execution_count": 8,
     "metadata": {},
     "output_type": "execute_result"
    }
   ],
   "source": [
    "model.train(input_fn=input_fn_train, steps=1500)"
   ]
  },
  {
   "cell_type": "code",
   "execution_count": 22,
   "metadata": {},
   "outputs": [
    {
     "name": "stdout",
     "output_type": "stream",
     "text": [
      "INFO:tensorflow:Calling model_fn.\n",
      "INFO:tensorflow:Done calling model_fn.\n",
      "INFO:tensorflow:Graph was finalized.\n",
      "INFO:tensorflow:Restoring parameters from tests/test_2/model.ckpt-1500\n",
      "INFO:tensorflow:Running local_init_op.\n",
      "INFO:tensorflow:Done running local_init_op.\n"
     ]
    }
   ],
   "source": [
    "# Apply model to test set\n",
    "test_prob = [p['prob'] for p in model.predict(input_fn_test)]\n",
    "table_test = data_table[randomized_inds_test]\n",
    "table_test['p'] = test_prob"
   ]
  },
  {
   "cell_type": "code",
   "execution_count": 23,
   "metadata": {},
   "outputs": [
    {
     "name": "stdout",
     "output_type": "stream",
     "text": [
      "INFO:tensorflow:Calling model_fn.\n",
      "INFO:tensorflow:Done calling model_fn.\n",
      "INFO:tensorflow:Graph was finalized.\n",
      "INFO:tensorflow:Restoring parameters from tests/test_2/model.ckpt-1500\n",
      "INFO:tensorflow:Running local_init_op.\n",
      "INFO:tensorflow:Done running local_init_op.\n"
     ]
    }
   ],
   "source": [
    "# Apply model to training set\n",
    "train_prob = [p['prob'] for p in model.predict(input_fn_train_test)]\n",
    "table_train = data_table[randomized_inds_train]\n",
    "table_train['p'] = train_prob"
   ]
  },
  {
   "cell_type": "code",
   "execution_count": 24,
   "metadata": {},
   "outputs": [
    {
     "data": {
      "image/png": "[encoded data removed]",
      "text/plain": [
       "<Figure size 432x288 with 1 Axes>"
      ]
     },
     "metadata": {},
     "output_type": "display_data"
    }
   ],
   "source": [
    "hist(test_prob);"
   ]
  },
  {
   "cell_type": "code",
   "execution_count": 25,
   "metadata": {},
   "outputs": [
    {
     "data": {
      "image/png": "[encoded data removed]",
      "text/plain": [
       "<Figure size 432x288 with 1 Axes>"
      ]
     },
     "metadata": {},
     "output_type": "display_data"
    }
   ],
   "source": [
    "hist(train_prob);"
   ]
  },
  {
   "cell_type": "code",
   "execution_count": 26,
   "metadata": {},
   "outputs": [
    {
     "name": "stderr",
     "output_type": "stream",
     "text": [
      "/Library/Frameworks/Python.framework/Versions/3.6/lib/python3.6/site-packages/matplotlib/cbook/deprecation.py:107: MatplotlibDeprecationWarning: Passing one of 'on', 'true', 'off', 'false' as a boolean is deprecated; use an actual boolean (True/False) instead.\n",
      "  warnings.warn(message, mplDeprecation, stacklevel=1)\n"
     ]
    },
    {
     "data": {
      "text/plain": [
       "<matplotlib.lines.Line2D at 0x128187208>"
      ]
     },
     "execution_count": 26,
     "metadata": {},
     "output_type": "execute_result"
    },
    {
     "data": {
      "image/png": "[encoded data removed]",
      "text/plain": [
       "<Figure size 432x288 with 1 Axes>"
      ]
     },
     "metadata": {},
     "output_type": "display_data"
    }
   ],
   "source": [
    "# Compute ROC curves \n",
    "from sklearn.metrics import roc_curve\n",
    "\n",
    "fpr1, tpr1, thr1 = roc_curve(table_train['label'], table_train['p'])\n",
    "fpr2, tpr2, thr2 = roc_curve(table_test['label'], table_test['p'])\n",
    "\n",
    "plot(fpr1, tpr1,label='training set')\n",
    "plot(fpr2, tpr2,label='testing set')\n",
    "title(\"roc curve fp_tp\")\n",
    "xlabel('false positive rate')\n",
    "ylabel('true positive rate')\n",
    "grid('on')\n",
    "xscale('log')\n",
    "legend()\n",
    "axvline(0.0043)"
   ]
  },
  {
   "cell_type": "code",
   "execution_count": 27,
   "metadata": {},
   "outputs": [
    {
     "name": "stderr",
     "output_type": "stream",
     "text": [
      "/Library/Frameworks/Python.framework/Versions/3.6/lib/python3.6/site-packages/matplotlib/cbook/deprecation.py:107: MatplotlibDeprecationWarning: Passing one of 'on', 'true', 'off', 'false' as a boolean is deprecated; use an actual boolean (True/False) instead.\n",
      "  warnings.warn(message, mplDeprecation, stacklevel=1)\n"
     ]
    },
    {
     "data": {
      "text/plain": [
       "<matplotlib.lines.Line2D at 0x129c66b70>"
      ]
     },
     "execution_count": 27,
     "metadata": {},
     "output_type": "execute_result"
    },
    {
     "data": {
      "image/png": "[encoded data removed]",
      "text/plain": [
       "<Figure size 432x288 with 1 Axes>"
      ]
     },
     "metadata": {},
     "output_type": "display_data"
    }
   ],
   "source": [
    "plot(thr1,fpr1,label='train')\n",
    "plot(thr2, fpr2,label='test')\n",
    "title(\"roc curve thr_fp\")\n",
    "xlabel('threshold')\n",
    "ylabel('false positive rate')\n",
    "grid('on')\n",
    "legend()\n",
    "axvline(0.0043)"
   ]
  },
  {
   "cell_type": "code",
   "execution_count": 28,
   "metadata": {},
   "outputs": [
    {
     "name": "stderr",
     "output_type": "stream",
     "text": [
      "/Library/Frameworks/Python.framework/Versions/3.6/lib/python3.6/site-packages/matplotlib/cbook/deprecation.py:107: MatplotlibDeprecationWarning: Passing one of 'on', 'true', 'off', 'false' as a boolean is deprecated; use an actual boolean (True/False) instead.\n",
      "  warnings.warn(message, mplDeprecation, stacklevel=1)\n"
     ]
    },
    {
     "data": {
      "text/plain": [
       "<matplotlib.lines.Line2D at 0x1267f3a58>"
      ]
     },
     "execution_count": 28,
     "metadata": {},
     "output_type": "execute_result"
    },
    {
     "data": {
      "image/png": "[encoded data removed]",
      "text/plain": [
       "<Figure size 432x288 with 1 Axes>"
      ]
     },
     "metadata": {},
     "output_type": "display_data"
    }
   ],
   "source": [
    "plot(thr1,tpr1,label='train')\n",
    "plot(thr2, tpr2,label='test')\n",
    "title(\"roc curve thr_tp\")\n",
    "xlabel('threshold')\n",
    "ylabel('true positive rate')\n",
    "grid('on')\n",
    "legend()\n",
    "axvline(0.0043)"
   ]
  },
  {
   "cell_type": "code",
   "execution_count": 29,
   "metadata": {},
   "outputs": [
    {
     "name": "stdout",
     "output_type": "stream",
     "text": [
      "fp: 562\n",
      "fn: 38\n",
      "tp: 113\n",
      "tn: 2634\n",
      "p: 151\n",
      "n: 3196\n",
      "fpr: 0.17584480600750937\n",
      "tpr: 0.7483443708609272\n"
     ]
    }
   ],
   "source": [
    "threshold=0.08\n",
    "# Splits the testing set\n",
    "FP = (table_test['p'] > threshold) * (table_test['label'] == 0)\n",
    "TP = (table_test['p'] > threshold) * (table_test['label'] == 1)\n",
    "FN = (table_test['p'] < threshold) * (table_test['label'] == 1)\n",
    "TN = (table_test['p'] < threshold) * (table_test['label'] == 0)\n",
    "\n",
    "P = (table_test['label'] == 1)\n",
    "N = (table_test['label'] == 0)\n",
    "\n",
    "t_fp = table_test[FP]\n",
    "t_fn = table_test[FN]\n",
    "t_tp = table_test[TP]\n",
    "t_tn = table_test[TN]\n",
    "t_p = table_test[P]\n",
    "t_n = table_test[N]\n",
    "\n",
    "fpr = len(t_fp)/len(t_n)\n",
    "tpr = len(t_tp)/len(t_p)\n",
    "\n",
    "print(\"fp: \" + str(len(t_fp)))\n",
    "print(\"fn: \" + str(len(t_fn)))\n",
    "print(\"tp: \" + str(len(t_tp)))\n",
    "print(\"tn: \" + str(len(t_tn)))\n",
    "print(\"p: \" + str(len(t_p)))\n",
    "print(\"n: \" + str(len(t_n)))\n",
    "print(\"fpr: \" + str(fpr))\n",
    "print(\"tpr: \" + str(tpr))"
   ]
  },
  {
   "cell_type": "code",
   "execution_count": null,
   "metadata": {},
   "outputs": [],
   "source": []
  }
 ],
 "metadata": {
  "kernelspec": {
   "display_name": "Python 3",
   "language": "python",
   "name": "python3"
  },
  "language_info": {
   "codemirror_mode": {
    "name": "ipython",
    "version": 3
   },
   "file_extension": ".py",
   "mimetype": "text/x-python",
   "name": "python",
   "nbconvert_exporter": "python",
   "pygments_lexer": "ipython3",
   "version": "3.6.5"
  }
 },
 "nbformat": 4,
 "nbformat_minor": 2
}
