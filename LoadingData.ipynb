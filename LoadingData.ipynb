{
 "cells": [
  {
   "cell_type": "markdown",
   "metadata": {},
   "source": [
    "# Example of loading SNCC data"
   ]
  },
  {
   "cell_type": "code",
   "execution_count": 2,
   "metadata": {},
   "outputs": [],
   "source": [
    "from astropy.io import ascii\n",
    "from astropy.io import fits\n",
    "from astropy.table import Table\n",
    "import matplotlib.pyplot as plt\n",
    "import re\n",
    "import numpy as np"
   ]
  },
  {
   "cell_type": "code",
   "execution_count": null,
   "metadata": {},
   "outputs": [],
   "source": [
    "def getData(folder, filename): #I'm finally using python properly\n",
    "    rdr = ascii.get_reader(Reader=ascii.Basic)\n",
    "    rdr.header.splitter.delimiter = ' '\n",
    "    rdr.data.splitter.delimiter = ' '\n",
    "    if folder == 'DES_BLINDnoHOSTZ':\n",
    "        rdr.header.start_line = 12\n",
    "        rdr.data.start_line = 13\n",
    "    else:\n",
    "        rdr.header.start_line = 14\n",
    "        rdr.data.start_line = 15\n",
    "    rdr.data.end_line = None\n",
    "    t = rdr.read('%s/%s' % (folder, filename))\n",
    "    FLT = t['FLT']\n",
    "    gFlux = np.array(t['FLUXCAL'][FLT == 'g'])\n",
    "    rFlux = np.array(t['FLUXCAL'][FLT == 'r'])\n",
    "    iFlux = np.array(t['FLUXCAL'][FLT == 'i'])\n",
    "    zFlux = np.array(t['FLUXCAL'][FLT == 'z'])\n",
    "    gErr = np.array(t['FLUXCALERR'][FLT == 'g'])\n",
    "    rErr = np.array(t['FLUXCALERR'][FLT == 'r'])\n",
    "    iErr = np.array(t['FLUXCALERR'][FLT == 'i'])\n",
    "    zErr = np.array(t['FLUXCALERR'][FLT == 'z'])\n",
    "    maxL = max(len(gFlux),len(rFlux), len(iFlux), len(zFlux))\n",
    "    #AMJD = \n",
    "    #Result = np.array([maxL, AMJD, gFlux,rFlux,iFlux,zFlux, gErr,rErr,iErr,zErr])\n",
    "    Result = np.array([gFlux,rFlux,iFlux,zFlux, gErr,rErr,iErr,zErr])\n",
    "    return Result\n",
    "    \n",
    "def getInfo(info, file):\n",
    "    for line in file:\n",
    "        if line.startswith('%s' % info):\n",
    "            return line[(len(info)+2)::] #might have extra spaces in front and it's a string\n",
    "    return None\n",
    "\n",
    "folder= 'DES_BLINDnoHOSTZ'\n",
    "\n",
    "#folder: no vs +\n",
    "#infoL: info list. eg. 'SNID', 'SNTYPE', 'FILTERS', 'RA', 'DECL', 'FAKE', 'MWEBV', ETC.\n",
    "#totalNum: total number of supernovae in the foler. Might be improved to automatically going through all files in a folder\n",
    "if folder == 'DES_BLINDnoHOSTZ':\n",
    "    colName = 'DES_SN000018.DAT'\n",
    "    totalNum = 18347\n",
    "    infoL = ['SURVEY','SNID', 'SNTYPE', 'FILTERS', 'RA', 'DECL', 'FAKE', 'MWEBV', 'REDSHIFT_SPE','NOBS', 'NVAR']\n",
    "else:\n",
    "    colName = 'DES_SN000041.DAT'\n",
    "    totalNum = 18320\n",
    "    infoL = ['SURVEY','SNID','SNTYPE','FILTERS','RA','DECL','FAKE','MWEBV','REDSHIFT_SPE','HOST_GALAXY_GALID','HOST_GALAXY_PHOTO-Z','NOBS','NVAR']\n",
    "\n",
    "list = ascii.read('%s/%s.LIST' % (folder, folder), data_start = 0)\n",
    "table = dict()\n",
    "for i in infoL:\n",
    "    table[i] = []\n",
    "table['FILENAME'] = []\n",
    "table['DATA'] = []\n",
    "#table\n",
    "for i in range(totalNum):\n",
    "    with open(folder + '/' + list[colName][i]) as f:\n",
    "        table['FILENAME'] += [list[colName][i]]\n",
    "        table['DATA'] += [[getData(folder, list[colName][i])]]\n",
    "        for j in infoL:\n",
    "            table[j] += [getInfo(j, f)]\n",
    "infoList = [table['FILENAME']]\n",
    "for i in infoL:\n",
    "    infoList += [table[i]]\n",
    "infoList += [table['DATA']]"
   ]
  },
  {
   "cell_type": "code",
   "execution_count": 4,
   "metadata": {},
   "outputs": [
    {
     "ename": "ValueError",
     "evalue": "could not broadcast input array from shape (8,4) into shape (8)",
     "output_type": "error",
     "traceback": [
      "\u001b[0;31m---------------------------------------------------------------------------\u001b[0m",
      "\u001b[0;31mValueError\u001b[0m                                Traceback (most recent call last)",
      "\u001b[0;32m<ipython-input-4-e5b417648dfb>\u001b[0m in \u001b[0;36m<module>\u001b[0;34m()\u001b[0m\n\u001b[1;32m      1\u001b[0m \u001b[0;31m#output = Table(infoList, names = ['FILENAME']+infoL)\u001b[0m\u001b[0;34m\u001b[0m\u001b[0;34m\u001b[0m\u001b[0m\n\u001b[0;32m----> 2\u001b[0;31m \u001b[0moutput\u001b[0m \u001b[0;34m=\u001b[0m \u001b[0mTable\u001b[0m\u001b[0;34m(\u001b[0m\u001b[0minfoList\u001b[0m\u001b[0;34m,\u001b[0m \u001b[0mnames\u001b[0m \u001b[0;34m=\u001b[0m \u001b[0;34m[\u001b[0m\u001b[0;34m'FILENAME'\u001b[0m\u001b[0;34m]\u001b[0m\u001b[0;34m+\u001b[0m\u001b[0minfoL\u001b[0m\u001b[0;34m+\u001b[0m\u001b[0;34m[\u001b[0m\u001b[0;34m'DATA'\u001b[0m\u001b[0;34m]\u001b[0m\u001b[0;34m)\u001b[0m\u001b[0;34m\u001b[0m\u001b[0m\n\u001b[0m",
      "\u001b[0;32m~/Library/Python/3.6/lib/python/site-packages/astropy/table/table.py\u001b[0m in \u001b[0;36m__init__\u001b[0;34m(self, data, masked, names, dtype, meta, copy, rows, copy_indices, **kwargs)\u001b[0m\n\u001b[1;32m    406\u001b[0m \u001b[0;34m\u001b[0m\u001b[0m\n\u001b[1;32m    407\u001b[0m         \u001b[0;31m# Finally do the real initialization\u001b[0m\u001b[0;34m\u001b[0m\u001b[0;34m\u001b[0m\u001b[0m\n\u001b[0;32m--> 408\u001b[0;31m         \u001b[0minit_func\u001b[0m\u001b[0;34m(\u001b[0m\u001b[0mdata\u001b[0m\u001b[0;34m,\u001b[0m \u001b[0mnames\u001b[0m\u001b[0;34m,\u001b[0m \u001b[0mdtype\u001b[0m\u001b[0;34m,\u001b[0m \u001b[0mn_cols\u001b[0m\u001b[0;34m,\u001b[0m \u001b[0mcopy\u001b[0m\u001b[0;34m)\u001b[0m\u001b[0;34m\u001b[0m\u001b[0m\n\u001b[0m\u001b[1;32m    409\u001b[0m \u001b[0;34m\u001b[0m\u001b[0m\n\u001b[1;32m    410\u001b[0m         \u001b[0;31m# Whatever happens above, the masked property should be set to a boolean\u001b[0m\u001b[0;34m\u001b[0m\u001b[0;34m\u001b[0m\u001b[0m\n",
      "\u001b[0;32m~/Library/Python/3.6/lib/python/site-packages/astropy/table/table.py\u001b[0m in \u001b[0;36m_init_from_list\u001b[0;34m(self, data, names, dtype, n_cols, copy)\u001b[0m\n\u001b[1;32m    680\u001b[0m             \u001b[0;32melif\u001b[0m \u001b[0misinstance\u001b[0m\u001b[0;34m(\u001b[0m\u001b[0mcol\u001b[0m\u001b[0;34m,\u001b[0m \u001b[0mnp\u001b[0m\u001b[0;34m.\u001b[0m\u001b[0mndarray\u001b[0m\u001b[0;34m)\u001b[0m \u001b[0;32mor\u001b[0m \u001b[0misiterable\u001b[0m\u001b[0;34m(\u001b[0m\u001b[0mcol\u001b[0m\u001b[0;34m)\u001b[0m\u001b[0;34m:\u001b[0m\u001b[0;34m\u001b[0m\u001b[0m\n\u001b[1;32m    681\u001b[0m                 col = self.ColumnClass(name=(name or def_name), data=col, dtype=dtype,\n\u001b[0;32m--> 682\u001b[0;31m                                        copy=copy, copy_indices=self._init_indices)\n\u001b[0m\u001b[1;32m    683\u001b[0m             \u001b[0;32melse\u001b[0m\u001b[0;34m:\u001b[0m\u001b[0;34m\u001b[0m\u001b[0m\n\u001b[1;32m    684\u001b[0m                 raise ValueError('Elements in list initialization must be '\n",
      "\u001b[0;32m~/Library/Python/3.6/lib/python/site-packages/astropy/table/column.py\u001b[0m in \u001b[0;36m__new__\u001b[0;34m(cls, data, name, dtype, shape, length, description, unit, format, meta, copy, copy_indices)\u001b[0m\n\u001b[1;32m    828\u001b[0m             \u001b[0mcls\u001b[0m\u001b[0;34m,\u001b[0m \u001b[0mdata\u001b[0m\u001b[0;34m=\u001b[0m\u001b[0mdata\u001b[0m\u001b[0;34m,\u001b[0m \u001b[0mname\u001b[0m\u001b[0;34m=\u001b[0m\u001b[0mname\u001b[0m\u001b[0;34m,\u001b[0m \u001b[0mdtype\u001b[0m\u001b[0;34m=\u001b[0m\u001b[0mdtype\u001b[0m\u001b[0;34m,\u001b[0m \u001b[0mshape\u001b[0m\u001b[0;34m=\u001b[0m\u001b[0mshape\u001b[0m\u001b[0;34m,\u001b[0m \u001b[0mlength\u001b[0m\u001b[0;34m=\u001b[0m\u001b[0mlength\u001b[0m\u001b[0;34m,\u001b[0m\u001b[0;34m\u001b[0m\u001b[0m\n\u001b[1;32m    829\u001b[0m             \u001b[0mdescription\u001b[0m\u001b[0;34m=\u001b[0m\u001b[0mdescription\u001b[0m\u001b[0;34m,\u001b[0m \u001b[0munit\u001b[0m\u001b[0;34m=\u001b[0m\u001b[0munit\u001b[0m\u001b[0;34m,\u001b[0m \u001b[0mformat\u001b[0m\u001b[0;34m=\u001b[0m\u001b[0mformat\u001b[0m\u001b[0;34m,\u001b[0m \u001b[0mmeta\u001b[0m\u001b[0;34m=\u001b[0m\u001b[0mmeta\u001b[0m\u001b[0;34m,\u001b[0m\u001b[0;34m\u001b[0m\u001b[0m\n\u001b[0;32m--> 830\u001b[0;31m             copy=copy, copy_indices=copy_indices)\n\u001b[0m\u001b[1;32m    831\u001b[0m         \u001b[0;32mreturn\u001b[0m \u001b[0mself\u001b[0m\u001b[0;34m\u001b[0m\u001b[0m\n\u001b[1;32m    832\u001b[0m \u001b[0;34m\u001b[0m\u001b[0m\n",
      "\u001b[0;32m~/Library/Python/3.6/lib/python/site-packages/astropy/table/column.py\u001b[0m in \u001b[0;36m__new__\u001b[0;34m(cls, data, name, dtype, shape, length, description, unit, format, meta, copy, copy_indices)\u001b[0m\n\u001b[1;32m    219\u001b[0m             \u001b[0;32mif\u001b[0m \u001b[0mnp\u001b[0m\u001b[0;34m.\u001b[0m\u001b[0mdtype\u001b[0m\u001b[0;34m(\u001b[0m\u001b[0mdtype\u001b[0m\u001b[0;34m)\u001b[0m\u001b[0;34m.\u001b[0m\u001b[0mchar\u001b[0m \u001b[0;34m==\u001b[0m \u001b[0;34m'S'\u001b[0m\u001b[0;34m:\u001b[0m\u001b[0;34m\u001b[0m\u001b[0m\n\u001b[1;32m    220\u001b[0m                 \u001b[0mdata\u001b[0m \u001b[0;34m=\u001b[0m \u001b[0mcls\u001b[0m\u001b[0;34m.\u001b[0m\u001b[0m_encode_str\u001b[0m\u001b[0;34m(\u001b[0m\u001b[0mdata\u001b[0m\u001b[0;34m)\u001b[0m\u001b[0;34m\u001b[0m\u001b[0m\n\u001b[0;32m--> 221\u001b[0;31m             \u001b[0mself_data\u001b[0m \u001b[0;34m=\u001b[0m \u001b[0mnp\u001b[0m\u001b[0;34m.\u001b[0m\u001b[0marray\u001b[0m\u001b[0;34m(\u001b[0m\u001b[0mdata\u001b[0m\u001b[0;34m,\u001b[0m \u001b[0mdtype\u001b[0m\u001b[0;34m=\u001b[0m\u001b[0mdtype\u001b[0m\u001b[0;34m,\u001b[0m \u001b[0mcopy\u001b[0m\u001b[0;34m=\u001b[0m\u001b[0mcopy\u001b[0m\u001b[0;34m)\u001b[0m\u001b[0;34m\u001b[0m\u001b[0m\n\u001b[0m\u001b[1;32m    222\u001b[0m \u001b[0;34m\u001b[0m\u001b[0m\n\u001b[1;32m    223\u001b[0m         \u001b[0mself\u001b[0m \u001b[0;34m=\u001b[0m \u001b[0mself_data\u001b[0m\u001b[0;34m.\u001b[0m\u001b[0mview\u001b[0m\u001b[0;34m(\u001b[0m\u001b[0mcls\u001b[0m\u001b[0;34m)\u001b[0m\u001b[0;34m\u001b[0m\u001b[0m\n",
      "\u001b[0;31mValueError\u001b[0m: could not broadcast input array from shape (8,4) into shape (8)"
     ]
    }
   ],
   "source": []
  },
  {
   "cell_type": "code",
   "execution_count": 11,
   "metadata": {},
   "outputs": [],
   "source": [
    "output = Table(infoList[:-1], names=['FILENAME']+infoL) "
   ]
  },
  {
   "cell_type": "code",
   "execution_count": 5,
   "metadata": {},
   "outputs": [],
   "source": [
    "d = infoList[-1]"
   ]
  },
  {
   "cell_type": "code",
   "execution_count": 6,
   "metadata": {},
   "outputs": [],
   "source": [
    "lt = [ len(d[i][0][1]) for i in range(len(d))]"
   ]
  },
  {
   "cell_type": "code",
   "execution_count": 7,
   "metadata": {},
   "outputs": [
    {
     "name": "stdout",
     "output_type": "stream",
     "text": [
      "Populating the interactive namespace from numpy and matplotlib\n"
     ]
    },
    {
     "name": "stderr",
     "output_type": "stream",
     "text": [
      "/Users/apple/Library/Python/3.6/lib/python/site-packages/IPython/core/magics/pylab.py:160: UserWarning: pylab import has clobbered these variables: ['table', 'f']\n",
      "`%matplotlib` prevents importing * from pylab and numpy\n",
      "  \"\\n`%matplotlib` prevents importing * from pylab and numpy\"\n"
     ]
    }
   ],
   "source": [
    "%pylab inline"
   ]
  },
  {
   "cell_type": "code",
   "execution_count": 8,
   "metadata": {},
   "outputs": [
    {
     "data": {
      "image/png": "[encoded data removed]",
      "text/plain": [
       "<Figure size 432x288 with 1 Axes>"
      ]
     },
     "metadata": {},
     "output_type": "display_data"
    }
   ],
   "source": [
    "hist(lt);"
   ]
  },
  {
   "cell_type": "code",
   "execution_count": 9,
   "metadata": {},
   "outputs": [],
   "source": [
    "ts = zeros((len(d), 50, 8))"
   ]
  },
  {
   "cell_type": "code",
   "execution_count": 33,
   "metadata": {},
   "outputs": [],
   "source": [
    "for i in range(len(d)):\n",
    "    for j in range(8):\n",
    "        toto = d[i][0][j]\n",
    "        ts[i,:len(toto),j] = toto"
   ]
  },
  {
   "cell_type": "code",
   "execution_count": 34,
   "metadata": {},
   "outputs": [
    {
     "data": {
      "text/plain": [
       "(18347, 50, 8)"
      ]
     },
     "execution_count": 34,
     "metadata": {},
     "output_type": "execute_result"
    }
   ],
   "source": [
    "ts.shape"
   ]
  },
  {
   "cell_type": "code",
   "execution_count": 12,
   "metadata": {},
   "outputs": [],
   "source": [
    "output['LIGHT_CURVE'] = ts"
   ]
  },
  {
   "cell_type": "code",
   "execution_count": 38,
   "metadata": {},
   "outputs": [],
   "source": [
    "yo = output[0]['LIGHT_CURVE']"
   ]
  },
  {
   "cell_type": "code",
   "execution_count": 40,
   "metadata": {},
   "outputs": [
    {
     "data": {
      "text/plain": [
       "[<matplotlib.lines.Line2D at 0x109e52dd8>,\n",
       " <matplotlib.lines.Line2D at 0x109e52780>,\n",
       " <matplotlib.lines.Line2D at 0x109e52080>,\n",
       " <matplotlib.lines.Line2D at 0x10adfaeb8>,\n",
       " <matplotlib.lines.Line2D at 0x10adfa240>,\n",
       " <matplotlib.lines.Line2D at 0x10adfa208>,\n",
       " <matplotlib.lines.Line2D at 0x10adfaa20>,\n",
       " <matplotlib.lines.Line2D at 0x10adfa080>]"
      ]
     },
     "execution_count": 40,
     "metadata": {},
     "output_type": "execute_result"
    },
    {
     "data": {
      "image/png": "[encoded data removed]",
      "text/plain": [
       "<Figure size 432x288 with 1 Axes>"
      ]
     },
     "metadata": {},
     "output_type": "display_data"
    }
   ],
   "source": [
    "plot(yo)"
   ]
  },
  {
   "cell_type": "code",
   "execution_count": 41,
   "metadata": {},
   "outputs": [],
   "source": [
    "output.write('table_test.fits')"
   ]
  },
  {
   "cell_type": "code",
   "execution_count": 45,
   "metadata": {},
   "outputs": [],
   "source": [
    "yi = output[2]['LIGHT_CURVE']"
   ]
  },
  {
   "cell_type": "code",
   "execution_count": 46,
   "metadata": {},
   "outputs": [
    {
     "data": {
      "text/plain": [
       "array([[ 2.970e+00,  1.016e+00,  1.955e+00,  3.431e+00,  2.637e+00,\n",
       "         1.487e+00,  2.292e+00,  2.385e+00],\n",
       "       [ 6.196e-01,  1.040e+01,  7.742e+00,  2.039e+01,  4.792e+00,\n",
       "         2.335e+00,  4.168e+00,  2.739e+00],\n",
       "       [ 1.134e+01,  3.384e+01,  4.211e+01,  4.884e+01,  3.707e+00,\n",
       "         3.285e+00,  3.312e+00,  3.955e+00],\n",
       "       [ 1.425e+01,  4.848e+01,  5.940e+01,  6.572e+01,  1.311e+00,\n",
       "         1.344e+00,  1.886e+00,  2.295e+00],\n",
       "       [ 9.433e+00,  5.135e+01,  5.986e+01,  8.195e+01,  3.931e+00,\n",
       "         5.683e+00,  4.636e+00,  1.448e+01],\n",
       "       [ 2.168e+01,  4.408e+01,  6.257e+01,  6.492e+01,  5.930e+00,\n",
       "         2.766e+00,  3.535e+00,  5.204e+00],\n",
       "       [ 8.176e+00,  3.591e+01,  5.497e+01,  5.671e+01,  7.698e+00,\n",
       "         2.495e+00,  5.221e+00,  4.272e+00],\n",
       "       [ 2.498e+01,  4.282e+01,  5.346e+01,  5.005e+01,  2.392e+01,\n",
       "         3.941e+00,  5.523e+00,  4.942e+00],\n",
       "       [-5.160e+00,  3.699e+01,  5.809e+01,  6.118e+01,  6.574e+00,\n",
       "         3.006e+00,  5.294e+00,  2.904e+00],\n",
       "       [ 1.175e+01,  3.547e+01,  4.980e+01,  5.677e+01,  6.051e+00,\n",
       "         2.645e+00,  4.349e+00,  3.449e+00],\n",
       "       [ 7.681e-01,  2.491e+01,  4.658e+01,  3.421e+01,  5.187e+00,\n",
       "         3.745e+00,  4.290e+00,  8.259e+00],\n",
       "       [-1.814e+00,  2.168e+01,  4.049e+01,  4.124e+01,  4.876e+00,\n",
       "         2.700e+00,  5.284e+00,  5.377e+00],\n",
       "       [ 5.577e+00,  2.003e+01,  4.060e+01,  4.732e+01,  3.169e+00,\n",
       "         2.252e+00,  2.615e+00,  3.802e+00],\n",
       "       [ 2.511e+00,  2.019e+01,  4.232e+01,  4.044e+01,  2.526e+00,\n",
       "         1.643e+00,  2.844e+00,  3.200e+00],\n",
       "       [ 1.585e+00,  1.842e+01,  3.029e+01,  3.607e+01,  2.170e+00,\n",
       "         1.696e+00,  2.634e+00,  2.641e+00],\n",
       "       [ 2.604e-01,  1.422e+01,  3.099e+01,  2.940e+01,  2.193e+00,\n",
       "         1.662e+00,  2.660e+00,  3.035e+00],\n",
       "       [ 3.611e+00,  1.327e+01,  2.990e+01,  3.681e+01,  1.722e+00,\n",
       "         1.382e+00,  3.268e+00,  2.922e+00],\n",
       "       [-3.580e+00,  1.319e+01,  2.896e+01,  3.392e+01,  6.564e+00,\n",
       "         2.828e+00,  2.043e+00,  2.039e+00],\n",
       "       [ 1.488e+00,  1.235e+01,  2.710e+01,  3.480e+01,  1.491e+00,\n",
       "         1.163e+00,  2.047e+00,  2.576e+00],\n",
       "       [-1.167e+00,  1.360e+01,  4.163e+00,  3.222e+01,  1.704e+00,\n",
       "         1.365e+00,  9.887e+00,  4.014e+00],\n",
       "       [ 5.289e+00,  6.781e+00,  7.983e+00,  2.562e+01,  4.948e+00,\n",
       "         2.386e+00,  3.861e+00,  3.126e+00],\n",
       "       [ 6.018e+00,  4.676e+00,  1.124e+01,  1.704e+01,  8.829e+00,\n",
       "         3.398e+00,  2.038e+00,  2.275e+00],\n",
       "       [ 1.474e+00,  2.751e+00,  9.565e+00,  1.351e+01,  1.754e+00,\n",
       "         1.216e+00,  1.810e+00,  2.306e+00],\n",
       "       [-1.724e+00,  2.214e+00,  1.206e+01,  4.454e+00,  2.075e+00,\n",
       "         1.276e+00,  3.069e+00,  2.586e+00],\n",
       "       [ 5.310e+00,  3.039e+00, -4.693e+00,  1.114e+01,  4.850e+00,\n",
       "         2.115e+00,  5.086e+00,  2.073e+00],\n",
       "       [-4.373e+00, -4.395e-02,  8.674e+00,  9.115e+00,  6.491e+00,\n",
       "         2.702e+00,  2.660e+00,  2.216e+00],\n",
       "       [-5.282e+00,  3.912e+00,  5.071e+00,  7.872e+00,  3.055e+00,\n",
       "         1.738e+00,  1.419e+00,  2.440e+00],\n",
       "       [-1.443e+00,  1.567e+00,  5.006e+00,  1.133e+01,  1.372e+00,\n",
       "         9.019e-01,  2.391e+00,  2.983e+00],\n",
       "       [ 1.946e-01,  3.986e+00,  6.858e+00,  5.754e+00,  2.670e+00,\n",
       "         1.499e+00,  2.784e+00,  2.960e+00],\n",
       "       [-2.602e+00,  6.750e-01,  5.011e+00,  0.000e+00,  4.217e+00,\n",
       "         1.860e+00,  3.404e+00,  0.000e+00],\n",
       "       [ 6.026e+00,  1.443e+00,  0.000e+00,  0.000e+00,  6.628e+00,\n",
       "         2.888e+00,  0.000e+00,  0.000e+00],\n",
       "       [ 0.000e+00,  0.000e+00,  0.000e+00,  0.000e+00,  0.000e+00,\n",
       "         0.000e+00,  0.000e+00,  0.000e+00],\n",
       "       [ 0.000e+00,  0.000e+00,  0.000e+00,  0.000e+00,  0.000e+00,\n",
       "         0.000e+00,  0.000e+00,  0.000e+00],\n",
       "       [ 0.000e+00,  0.000e+00,  0.000e+00,  0.000e+00,  0.000e+00,\n",
       "         0.000e+00,  0.000e+00,  0.000e+00],\n",
       "       [ 0.000e+00,  0.000e+00,  0.000e+00,  0.000e+00,  0.000e+00,\n",
       "         0.000e+00,  0.000e+00,  0.000e+00],\n",
       "       [ 0.000e+00,  0.000e+00,  0.000e+00,  0.000e+00,  0.000e+00,\n",
       "         0.000e+00,  0.000e+00,  0.000e+00],\n",
       "       [ 0.000e+00,  0.000e+00,  0.000e+00,  0.000e+00,  0.000e+00,\n",
       "         0.000e+00,  0.000e+00,  0.000e+00],\n",
       "       [ 0.000e+00,  0.000e+00,  0.000e+00,  0.000e+00,  0.000e+00,\n",
       "         0.000e+00,  0.000e+00,  0.000e+00],\n",
       "       [ 0.000e+00,  0.000e+00,  0.000e+00,  0.000e+00,  0.000e+00,\n",
       "         0.000e+00,  0.000e+00,  0.000e+00],\n",
       "       [ 0.000e+00,  0.000e+00,  0.000e+00,  0.000e+00,  0.000e+00,\n",
       "         0.000e+00,  0.000e+00,  0.000e+00],\n",
       "       [ 0.000e+00,  0.000e+00,  0.000e+00,  0.000e+00,  0.000e+00,\n",
       "         0.000e+00,  0.000e+00,  0.000e+00],\n",
       "       [ 0.000e+00,  0.000e+00,  0.000e+00,  0.000e+00,  0.000e+00,\n",
       "         0.000e+00,  0.000e+00,  0.000e+00],\n",
       "       [ 0.000e+00,  0.000e+00,  0.000e+00,  0.000e+00,  0.000e+00,\n",
       "         0.000e+00,  0.000e+00,  0.000e+00],\n",
       "       [ 0.000e+00,  0.000e+00,  0.000e+00,  0.000e+00,  0.000e+00,\n",
       "         0.000e+00,  0.000e+00,  0.000e+00],\n",
       "       [ 0.000e+00,  0.000e+00,  0.000e+00,  0.000e+00,  0.000e+00,\n",
       "         0.000e+00,  0.000e+00,  0.000e+00],\n",
       "       [ 0.000e+00,  0.000e+00,  0.000e+00,  0.000e+00,  0.000e+00,\n",
       "         0.000e+00,  0.000e+00,  0.000e+00],\n",
       "       [ 0.000e+00,  0.000e+00,  0.000e+00,  0.000e+00,  0.000e+00,\n",
       "         0.000e+00,  0.000e+00,  0.000e+00],\n",
       "       [ 0.000e+00,  0.000e+00,  0.000e+00,  0.000e+00,  0.000e+00,\n",
       "         0.000e+00,  0.000e+00,  0.000e+00],\n",
       "       [ 0.000e+00,  0.000e+00,  0.000e+00,  0.000e+00,  0.000e+00,\n",
       "         0.000e+00,  0.000e+00,  0.000e+00],\n",
       "       [ 0.000e+00,  0.000e+00,  0.000e+00,  0.000e+00,  0.000e+00,\n",
       "         0.000e+00,  0.000e+00,  0.000e+00]])"
      ]
     },
     "execution_count": 46,
     "metadata": {},
     "output_type": "execute_result"
    }
   ],
   "source": [
    "yi"
   ]
  },
  {
   "cell_type": "code",
   "execution_count": 13,
   "metadata": {},
   "outputs": [
    {
     "data": {
      "text/html": [
       "<i>Table length=18347</i>\n",
       "<table id=\"table4481216072\" class=\"table-striped table-bordered table-condensed\">\n",
       "<thead><tr><th>FILENAME</th><th>SURVEY</th><th>SNID</th><th>SNTYPE</th><th>FILTERS</th><th>RA</th><th>DECL</th><th>FAKE</th><th>MWEBV</th><th>REDSHIFT_SPE</th><th>NOBS</th><th>NVAR</th><th>LIGHT_CURVE [50,8]</th></tr></thead>\n",
       "<thead><tr><th>str16</th><th>str7</th><th>str12</th><th>str5</th><th>str6</th><th>str21</th><th>str20</th><th>str35</th><th>str23</th><th>str25</th><th>str5</th><th>str3</th><th>float64</th></tr></thead>\n",
       "<tr><td>DES_SN000018.DAT</td><td>DES</td><td>18</td><td>-9</td><td>griz</td><td>34.500000  deg</td><td>-5.500000  deg</td><td>3   (=&gt; BLIND-TEST simulation)</td><td>0.0227    MW E(B-V)</td><td>-9.0000 +-  9.0000</td><td>118</td><td>5</td><td>0.0 .. 0.0</td></tr>\n",
       "<tr><td>DES_SN000050.DAT</td><td>DES</td><td>50</td><td>-9</td><td>griz</td><td>36.750000  deg</td><td>-4.500000  deg</td><td>3   (=&gt; BLIND-TEST simulation)</td><td>0.0283    MW E(B-V)</td><td>-9.0000 +-  9.0000</td><td>16</td><td>5</td><td>0.0 .. 0.0</td></tr>\n",
       "<tr><td>DES_SN000051.DAT</td><td>DES</td><td>51</td><td>1</td><td>griz</td><td>52.500000  deg</td><td>-27.500000  deg</td><td>3   (=&gt; BLIND-TEST simulation)</td><td>0.0097    MW E(B-V)</td><td>0.5177 +-  0.0050</td><td>121</td><td>5</td><td>0.0 .. 0.0</td></tr>\n",
       "<tr><td>DES_SN000063.DAT</td><td>DES</td><td>63</td><td>-9</td><td>griz</td><td>34.500000  deg</td><td>-5.500000  deg</td><td>3   (=&gt; BLIND-TEST simulation)</td><td>0.0227    MW E(B-V)</td><td>-9.0000 +-  9.0000</td><td>115</td><td>5</td><td>0.0 .. 0.0</td></tr>\n",
       "<tr><td>DES_SN000064.DAT</td><td>DES</td><td>64</td><td>-9</td><td>griz</td><td>48.000000  deg</td><td>0.000000  deg</td><td>3   (=&gt; BLIND-TEST simulation)</td><td>0.0713    MW E(B-V)</td><td>-9.0000 +-  9.0000</td><td>92</td><td>5</td><td>0.0 .. 0.0</td></tr>\n",
       "<tr><td>DES_SN000096.DAT</td><td>DES</td><td>96</td><td>-9</td><td>griz</td><td>34.500000  deg</td><td>-5.500000  deg</td><td>3   (=&gt; BLIND-TEST simulation)</td><td>0.0227    MW E(B-V)</td><td>-9.0000 +-  9.0000</td><td>104</td><td>5</td><td>0.0 .. 0.0</td></tr>\n",
       "<tr><td>DES_SN000122.DAT</td><td>DES</td><td>122</td><td>-9</td><td>griz</td><td>34.500000  deg</td><td>-5.500000  deg</td><td>3   (=&gt; BLIND-TEST simulation)</td><td>0.0227    MW E(B-V)</td><td>-9.0000 +-  9.0000</td><td>11</td><td>5</td><td>0.0 .. 0.0</td></tr>\n",
       "<tr><td>DES_SN000124.DAT</td><td>DES</td><td>124</td><td>-9</td><td>griz</td><td>48.000000  deg</td><td>0.000000  deg</td><td>3   (=&gt; BLIND-TEST simulation)</td><td>0.0713    MW E(B-V)</td><td>-9.0000 +-  9.0000</td><td>95</td><td>5</td><td>0.0 .. 0.0</td></tr>\n",
       "<tr><td>DES_SN000156.DAT</td><td>DES</td><td>156</td><td>-9</td><td>griz</td><td>36.750000  deg</td><td>-4.500000  deg</td><td>3   (=&gt; BLIND-TEST simulation)</td><td>0.0283    MW E(B-V)</td><td>-9.0000 +-  9.0000</td><td>87</td><td>5</td><td>0.0 .. 0.0</td></tr>\n",
       "<tr><td>DES_SN000177.DAT</td><td>DES</td><td>177</td><td>-9</td><td>griz</td><td>0.500000  deg</td><td>-43.000000  deg</td><td>3   (=&gt; BLIND-TEST simulation)</td><td>0.0111    MW E(B-V)</td><td>-9.0000 +-  9.0000</td><td>45</td><td>5</td><td>0.0 .. 0.0</td></tr>\n",
       "<tr><td>...</td><td>...</td><td>...</td><td>...</td><td>...</td><td>...</td><td>...</td><td>...</td><td>...</td><td>...</td><td>...</td><td>...</td><td>...</td></tr>\n",
       "<tr><td>DES_SN199804.DAT</td><td>DES</td><td>199804</td><td>-9</td><td>griz</td><td>36.750000  deg</td><td>-4.500000  deg</td><td>3   (=&gt; BLIND-TEST simulation)</td><td>0.0283    MW E(B-V)</td><td>-9.0000 +-  9.0000</td><td>116</td><td>5</td><td>0.0 .. 0.0</td></tr>\n",
       "<tr><td>DES_SN199809.DAT</td><td>DES</td><td>199809</td><td>-9</td><td>griz</td><td>52.500000  deg</td><td>-27.500000  deg</td><td>3   (=&gt; BLIND-TEST simulation)</td><td>0.0097    MW E(B-V)</td><td>-9.0000 +-  9.0000</td><td>105</td><td>5</td><td>0.0 .. 0.0</td></tr>\n",
       "<tr><td>DES_SN199836.DAT</td><td>DES</td><td>199836</td><td>-9</td><td>griz</td><td>0.500000  deg</td><td>-43.000000  deg</td><td>3   (=&gt; BLIND-TEST simulation)</td><td>0.0111    MW E(B-V)</td><td>-9.0000 +-  9.0000</td><td>8</td><td>5</td><td>0.0 .. 0.0</td></tr>\n",
       "<tr><td>DES_SN199840.DAT</td><td>DES</td><td>199840</td><td>-9</td><td>griz</td><td>52.500000  deg</td><td>-27.500000  deg</td><td>3   (=&gt; BLIND-TEST simulation)</td><td>0.0097    MW E(B-V)</td><td>-9.0000 +-  9.0000</td><td>63</td><td>5</td><td>0.0 .. 0.0</td></tr>\n",
       "<tr><td>DES_SN199843.DAT</td><td>DES</td><td>199843</td><td>-9</td><td>griz</td><td>36.750000  deg</td><td>-4.500000  deg</td><td>3   (=&gt; BLIND-TEST simulation)</td><td>0.0283    MW E(B-V)</td><td>-9.0000 +-  9.0000</td><td>110</td><td>5</td><td>0.0 .. 0.0</td></tr>\n",
       "<tr><td>DES_SN199863.DAT</td><td>DES</td><td>199863</td><td>-9</td><td>griz</td><td>34.500000  deg</td><td>-5.500000  deg</td><td>3   (=&gt; BLIND-TEST simulation)</td><td>0.0227    MW E(B-V)</td><td>-9.0000 +-  9.0000</td><td>100</td><td>5</td><td>0.0 .. 0.0</td></tr>\n",
       "<tr><td>DES_SN199866.DAT</td><td>DES</td><td>199866</td><td>-9</td><td>griz</td><td>36.750000  deg</td><td>-4.500000  deg</td><td>3   (=&gt; BLIND-TEST simulation)</td><td>0.0283    MW E(B-V)</td><td>-9.0000 +-  9.0000</td><td>57</td><td>5</td><td>0.0 .. 0.0</td></tr>\n",
       "<tr><td>DES_SN199900.DAT</td><td>DES</td><td>199900</td><td>-9</td><td>griz</td><td>52.500000  deg</td><td>-27.500000  deg</td><td>3   (=&gt; BLIND-TEST simulation)</td><td>0.0097    MW E(B-V)</td><td>-9.0000 +-  9.0000</td><td>117</td><td>5</td><td>0.0 .. 0.0</td></tr>\n",
       "<tr><td>DES_SN199953.DAT</td><td>DES</td><td>199953</td><td>-9</td><td>griz</td><td>34.500000  deg</td><td>-5.500000  deg</td><td>3   (=&gt; BLIND-TEST simulation)</td><td>0.0227    MW E(B-V)</td><td>-9.0000 +-  9.0000</td><td>120</td><td>5</td><td>0.0 .. 0.0</td></tr>\n",
       "<tr><td>DES_SN199968.DAT</td><td>DES</td><td>199968</td><td>-9</td><td>griz</td><td>48.000000  deg</td><td>0.000000  deg</td><td>3   (=&gt; BLIND-TEST simulation)</td><td>0.0713    MW E(B-V)</td><td>-9.0000 +-  9.0000</td><td>109</td><td>5</td><td>0.0 .. 0.0</td></tr>\n",
       "</table>"
      ],
      "text/plain": [
       "<Table length=18347>\n",
       "    FILENAME      SURVEY     SNID     SNTYPE ...  NOBS NVAR LIGHT_CURVE [50,8]\n",
       "     str16         str7     str12      str5  ...  str5 str3      float64      \n",
       "---------------- ------- ------------ ------ ... ----- ---- ------------------\n",
       "DES_SN000018.DAT DES   \n",
       "       18   \n",
       "   -9 \n",
       " ... 118 \n",
       "  5 \n",
       "         0.0 .. 0.0\n",
       "DES_SN000050.DAT DES   \n",
       "       50   \n",
       "   -9 \n",
       " ...  16 \n",
       "  5 \n",
       "         0.0 .. 0.0\n",
       "DES_SN000051.DAT DES   \n",
       "       51   \n",
       "    1 \n",
       " ... 121 \n",
       "  5 \n",
       "         0.0 .. 0.0\n",
       "DES_SN000063.DAT DES   \n",
       "       63   \n",
       "   -9 \n",
       " ... 115 \n",
       "  5 \n",
       "         0.0 .. 0.0\n",
       "DES_SN000064.DAT DES   \n",
       "       64   \n",
       "   -9 \n",
       " ...  92 \n",
       "  5 \n",
       "         0.0 .. 0.0\n",
       "DES_SN000096.DAT DES   \n",
       "       96   \n",
       "   -9 \n",
       " ... 104 \n",
       "  5 \n",
       "         0.0 .. 0.0\n",
       "DES_SN000122.DAT DES   \n",
       "      122   \n",
       "   -9 \n",
       " ...  11 \n",
       "  5 \n",
       "         0.0 .. 0.0\n",
       "DES_SN000124.DAT DES   \n",
       "      124   \n",
       "   -9 \n",
       " ...  95 \n",
       "  5 \n",
       "         0.0 .. 0.0\n",
       "DES_SN000156.DAT DES   \n",
       "      156   \n",
       "   -9 \n",
       " ...  87 \n",
       "  5 \n",
       "         0.0 .. 0.0\n",
       "DES_SN000177.DAT DES   \n",
       "      177   \n",
       "   -9 \n",
       " ...  45 \n",
       "  5 \n",
       "         0.0 .. 0.0\n",
       "             ...     ...          ...    ... ...   ...  ...                ...\n",
       "DES_SN199804.DAT DES   \n",
       "   199804   \n",
       "   -9 \n",
       " ... 116 \n",
       "  5 \n",
       "         0.0 .. 0.0\n",
       "DES_SN199809.DAT DES   \n",
       "   199809   \n",
       "   -9 \n",
       " ... 105 \n",
       "  5 \n",
       "         0.0 .. 0.0\n",
       "DES_SN199836.DAT DES   \n",
       "   199836   \n",
       "   -9 \n",
       " ...   8 \n",
       "  5 \n",
       "         0.0 .. 0.0\n",
       "DES_SN199840.DAT DES   \n",
       "   199840   \n",
       "   -9 \n",
       " ...  63 \n",
       "  5 \n",
       "         0.0 .. 0.0\n",
       "DES_SN199843.DAT DES   \n",
       "   199843   \n",
       "   -9 \n",
       " ... 110 \n",
       "  5 \n",
       "         0.0 .. 0.0\n",
       "DES_SN199863.DAT DES   \n",
       "   199863   \n",
       "   -9 \n",
       " ... 100 \n",
       "  5 \n",
       "         0.0 .. 0.0\n",
       "DES_SN199866.DAT DES   \n",
       "   199866   \n",
       "   -9 \n",
       " ...  57 \n",
       "  5 \n",
       "         0.0 .. 0.0\n",
       "DES_SN199900.DAT DES   \n",
       "   199900   \n",
       "   -9 \n",
       " ... 117 \n",
       "  5 \n",
       "         0.0 .. 0.0\n",
       "DES_SN199953.DAT DES   \n",
       "   199953   \n",
       "   -9 \n",
       " ... 120 \n",
       "  5 \n",
       "         0.0 .. 0.0\n",
       "DES_SN199968.DAT DES   \n",
       "   199968   \n",
       "   -9 \n",
       " ... 109 \n",
       "  5 \n",
       "         0.0 .. 0.0"
      ]
     },
     "execution_count": 13,
     "metadata": {},
     "output_type": "execute_result"
    }
   ],
   "source": [
    "output"
   ]
  },
  {
   "cell_type": "code",
   "execution_count": 3,
   "metadata": {},
   "outputs": [],
   "source": [
    "a = np.array([0,1,3,4,1,2,2,5,8,6,5])"
   ]
  },
  {
   "cell_type": "code",
   "execution_count": 4,
   "metadata": {},
   "outputs": [],
   "source": [
    "UIMJD, indices = np.unique(a, return_index=True)"
   ]
  },
  {
   "cell_type": "code",
   "execution_count": 5,
   "metadata": {},
   "outputs": [
    {
     "data": {
      "text/plain": [
       "array([0, 1, 2, 3, 4, 5, 6, 8])"
      ]
     },
     "execution_count": 5,
     "metadata": {},
     "output_type": "execute_result"
    }
   ],
   "source": [
    "UIMJD"
   ]
  },
  {
   "cell_type": "code",
   "execution_count": 6,
   "metadata": {},
   "outputs": [
    {
     "data": {
      "text/plain": [
       "array([0, 1, 5, 2, 3, 7, 9, 8])"
      ]
     },
     "execution_count": 6,
     "metadata": {},
     "output_type": "execute_result"
    }
   ],
   "source": [
    "indices"
   ]
  },
  {
   "cell_type": "code",
   "execution_count": 7,
   "metadata": {},
   "outputs": [
    {
     "data": {
      "text/plain": [
       "8"
      ]
     },
     "execution_count": 7,
     "metadata": {},
     "output_type": "execute_result"
    }
   ],
   "source": [
    "len(indices)"
   ]
  },
  {
   "cell_type": "code",
   "execution_count": 11,
   "metadata": {},
   "outputs": [
    {
     "name": "stdout",
     "output_type": "stream",
     "text": [
      "0\n",
      "1\n"
     ]
    }
   ],
   "source": [
    "for i in range(2):\n",
    "    print(i)"
   ]
  },
  {
   "cell_type": "code",
   "execution_count": null,
   "metadata": {},
   "outputs": [],
   "source": []
  }
 ],
 "metadata": {
  "kernelspec": {
   "display_name": "Python 3",
   "language": "python",
   "name": "python3"
  },
  "language_info": {
   "codemirror_mode": {
    "name": "ipython",
    "version": 3
   },
   "file_extension": ".py",
   "mimetype": "text/x-python",
   "name": "python",
   "nbconvert_exporter": "python",
   "pygments_lexer": "ipython3",
   "version": "3.6.5"
  }
 },
 "nbformat": 4,
 "nbformat_minor": 2
}
