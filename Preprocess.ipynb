{
 "cells": [
  {
   "cell_type": "code",
   "execution_count": 79,
   "metadata": {},
   "outputs": [],
   "source": [
    "from astropy.io import ascii\n",
    "from astropy.io import fits\n",
    "from astropy.table import Table\n",
    "import matplotlib.pyplot as plt\n",
    "import re\n",
    "import numpy as np\n",
    "import copy"
   ]
  },
  {
   "cell_type": "code",
   "execution_count": 80,
   "metadata": {},
   "outputs": [],
   "source": [
    "def getData(folder, filename): #I'm finally using python properly\n",
    "    rdr = ascii.get_reader(Reader=ascii.Basic)\n",
    "    rdr.header.splitter.delimiter = ' '\n",
    "    rdr.data.splitter.delimiter = ' '\n",
    "    if folder == 'DES_BLINDnoHOSTZ':\n",
    "        rdr.header.start_line = 12\n",
    "        rdr.data.start_line = 13\n",
    "    else:\n",
    "        rdr.header.start_line = 14\n",
    "        rdr.data.start_line = 15\n",
    "    rdr.data.end_line = None\n",
    "    \n",
    "    t = rdr.read('%s/%s' % (folder, filename))\n",
    "    FLT = t['FLT']\n",
    "    MJD = t['MJD']\n",
    "    IMJD = copy.deepcopy(MJD)\n",
    "    for i in range(len(IMJD)):\n",
    "        IMJD[i] = int(IMJD[i])\n",
    "    UIMJD, indices = np.unique(IMJD, return_index=True)\n",
    "    \n",
    "    obs_length = MJD[-1]-MJD[0]\n",
    "    \n",
    "    ts = np.zeros((50, 9))\n",
    "        \n",
    "    for i in range(len(indices)):\n",
    "        start = indices[i]\n",
    "        if i+1 < len(indices):\n",
    "            end = indices[i+1]\n",
    "        else: \n",
    "            end = len(UIMJD)\n",
    "        TMJD = 0\n",
    "        for j in range(start,end): \n",
    "            error = t['FLUXCALERR'][j]\n",
    "            if error >= 0:\n",
    "                flux = t['FLUXCAL'][j]\n",
    "                TMJD += t['MJD'][j]\n",
    "                if FLT[j] =='g':\n",
    "                    ts[i,1] = flux\n",
    "                    ts[i,5] = error\n",
    "                elif FLT[j] =='r':\n",
    "                    ts[i,2] = flux\n",
    "                    ts[i,6] = error\n",
    "                elif FLT[j] =='i':\n",
    "                    ts[i,3] = flux\n",
    "                    ts[i,7] = error\n",
    "                else:  # FLT[j] =='z'\n",
    "                    ts[i,4] = flux\n",
    "                    ts[i,8] = error\n",
    "        ts[i,0] = TMJD/(end-start)\n",
    "    \n",
    "        \n",
    "    offset = ts[0,0]\n",
    "    for i in range(len(indices)-1):\n",
    "        if ts[i,0] != 0: ts[i,0] -= offset\n",
    "    \n",
    "    return (ts,obs_length, len(indices))"
   ]
  },
  {
   "cell_type": "code",
   "execution_count": 81,
   "metadata": {},
   "outputs": [],
   "source": [
    "def getInfo(info, file):\n",
    "    for line in file:\n",
    "        if line.startswith('%s' % info):\n",
    "            return line[(len(info)+2)::] #might have extra spaces in front and it's a string\n",
    "    return None"
   ]
  },
  {
   "cell_type": "code",
   "execution_count": 82,
   "metadata": {},
   "outputs": [],
   "source": [
    "#choose which folder to work with\n",
    "folder= 'DES_BLINDnoHOSTZ'"
   ]
  },
  {
   "cell_type": "code",
   "execution_count": 83,
   "metadata": {},
   "outputs": [
    {
     "name": "stderr",
     "output_type": "stream",
     "text": [
      "/Users/apple/Library/Python/3.6/lib/python/site-packages/ipykernel_launcher.py:49: RuntimeWarning: invalid value encountered in long_scalars\n"
     ]
    }
   ],
   "source": [
    "if folder == 'DES_BLINDnoHOSTZ':\n",
    "    colName = 'DES_SN000018.DAT'\n",
    "    totalNum = 18347\n",
    "    infoL = ['SURVEY','SNID', 'SNTYPE', 'FILTERS', 'RA', 'DECL', 'FAKE', 'MWEBV', 'REDSHIFT_SPE','NOBS', 'NVAR']\n",
    "else:\n",
    "    colName = 'DES_SN000041.DAT'\n",
    "    totalNum = 18320\n",
    "    infoL = ['SURVEY','SNID','SNTYPE','FILTERS','RA','DECL','FAKE','MWEBV','REDSHIFT_SPE','HOST_GALAXY_GALID','HOST_GALAXY_PHOTO-Z','NOBS','NVAR']\n",
    "\n",
    "list = ascii.read('%s/%s.LIST' % (folder, folder), data_start = 0)\n",
    "\n",
    "#Set up space to gather information\n",
    "table = dict()\n",
    "for i in infoL:\n",
    "    table[i] = []\n",
    "table['FILENAME'] = []\n",
    "table['DATA'] = []\n",
    "table['obs_length'] = []\n",
    "table['num_data_points'] = []\n",
    "max_obs_len = 0\n",
    "\n",
    "for i in range(totalNum):\n",
    "    with open(folder + '/' + list[colName][i]) as f:\n",
    "        table['FILENAME'] += [list[colName][i]]\n",
    "        (ts,obs_length,num__data_points) = getData(folder, list[colName][i])\n",
    "        if obs_length >= max_obs_len: max_obs_len = obs_length\n",
    "        table['DATA'] += [ts]\n",
    "        table['obs_length'] += [obs_length]\n",
    "        table['num_data_points'] += [num__data_points]\n",
    "        for j in infoL:\n",
    "            table[j] += [getInfo(j, f)]\n",
    "\n",
    "#Normalize observation length and MJDs so they are all between 0-1\n",
    "\n",
    "for i in range(totalNum):\n",
    "    for j in range(50):\n",
    "        table['DATA'][i][j][0] /= max_obs_len\n",
    "\n",
    "infoList = [table['FILENAME']]\n",
    "for i in infoL:\n",
    "    infoList += [table[i]]\n",
    "infoList += [table['DATA']]\n",
    "infoList += [table['obs_length']]\n",
    "infoList += [table['num_data_points']]"
   ]
  },
  {
   "cell_type": "code",
   "execution_count": 84,
   "metadata": {},
   "outputs": [],
   "source": [
    "output = Table(infoList, names = ['FILENAME']+infoL+['DATA']+['obs_length']+['num_data_points'])"
   ]
  },
  {
   "cell_type": "code",
   "execution_count": 85,
   "metadata": {},
   "outputs": [],
   "source": [
    "g_m = output['DATA'][:,:,1].flatten() != 0\n",
    "g_std = np.std(output['DATA'][:,:,1].flatten()[g_m])\n",
    "g_mean = np.mean(output['DATA'][:,:,1].flatten()[g_m])\n",
    "\n",
    "r_m = output['DATA'][:,:,2].flatten() != 0\n",
    "r_std = np.std(output['DATA'][:,:,2].flatten()[r_m])\n",
    "r_mean = np.mean(output['DATA'][:,:,2].flatten()[r_m])\n",
    "\n",
    "i_m = output['DATA'][:,:,3].flatten() != 0\n",
    "i_std = np.std(output['DATA'][:,:,3].flatten()[i_m])\n",
    "i_mean = np.mean(output['DATA'][:,:,3].flatten()[i_m])\n",
    "\n",
    "z_m = output['DATA'][:,:,4].flatten() != 0\n",
    "z_std = np.std(output['DATA'][:,:,4].flatten()[z_m])\n",
    "z_mean = np.mean(output['DATA'][:,:,4].flatten()[z_m])\n",
    "\n",
    "output['DATA'][:,:,1] -= g_mean\n",
    "output['DATA'][:,:,1] /= g_std\n",
    "output['DATA'][:,:,5] /= g_std\n",
    "\n",
    "output['DATA'][:,:,2] -= r_mean\n",
    "output['DATA'][:,:,2] /= r_std\n",
    "output['DATA'][:,:,6] /= r_std\n",
    "\n",
    "output['DATA'][:,:,3] -= i_mean\n",
    "output['DATA'][:,:,3] /= i_std\n",
    "output['DATA'][:,:,7] /= i_std\n",
    "\n",
    "output['DATA'][:,:,4] -= z_mean\n",
    "output['DATA'][:,:,4] /= z_std\n",
    "output['DATA'][:,:,8] /= z_std"
   ]
  },
  {
   "cell_type": "code",
   "execution_count": 86,
   "metadata": {},
   "outputs": [
    {
     "data": {
      "image/png": "[encoded data removed]",
      "text/plain": [
       "<Figure size 432x288 with 1 Axes>"
      ]
     },
     "metadata": {},
     "output_type": "display_data"
    }
   ],
   "source": [
    "MJD = output['DATA'][0,:,0]\n",
    "\n",
    "g_FLUXCAL = output['DATA'][0,:,1]\n",
    "r_FLUXCAL = output['DATA'][0,:,2]\n",
    "i_FLUXCAL = output['DATA'][0,:,3]\n",
    "z_FLUXCAL = output['DATA'][0,:,4]\n",
    "\n",
    "g_err = output['DATA'][0,:,5]\n",
    "r_err = output['DATA'][0,:,6]\n",
    "i_err = output['DATA'][0,:,7]\n",
    "z_err = output['DATA'][0,:,8]\n",
    "\n",
    "plt.errorbar(MJD, g_FLUXCAL, g_err, capsize = 4, label='g',color = 'forestgreen') \n",
    "plt.errorbar(MJD, r_FLUXCAL, r_err, capsize = 4, label='r',color = 'coral')\n",
    "plt.errorbar(MJD, i_FLUXCAL, i_err, capsize = 4, label='i', color = 'indianred')\n",
    "plt.errorbar(MJD, z_FLUXCAL, z_err, capsize = 4, label='z', color = 'gray')\n",
    "plt.xlabel('Modified Julian Date')\n",
    "plt.ylabel('Calibrated Flux')\n",
    "\n",
    "plt.legend()\n",
    "plt.show()"
   ]
  },
  {
   "cell_type": "code",
   "execution_count": 87,
   "metadata": {},
   "outputs": [],
   "source": [
    "output.write('normalized_good.fits')"
   ]
  },
  {
   "cell_type": "code",
   "execution_count": null,
   "metadata": {},
   "outputs": [],
   "source": []
  }
 ],
 "metadata": {
  "kernelspec": {
   "display_name": "Python 3",
   "language": "python",
   "name": "python3"
  },
  "language_info": {
   "codemirror_mode": {
    "name": "ipython",
    "version": 3
   },
   "file_extension": ".py",
   "mimetype": "text/x-python",
   "name": "python",
   "nbconvert_exporter": "python",
   "pygments_lexer": "ipython3",
   "version": "3.6.5"
  }
 },
 "nbformat": 4,
 "nbformat_minor": 2
}
