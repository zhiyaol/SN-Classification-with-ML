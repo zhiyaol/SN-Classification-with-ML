{
 "cells": [
  {
   "cell_type": "code",
   "execution_count": 4,
   "metadata": {},
   "outputs": [],
   "source": [
    "from astropy.io import ascii\n",
    "from astropy.io import fits\n",
    "from astropy.table import Table\n",
    "import matplotlib.pyplot as plt\n",
    "import re\n",
    "import numpy as np\n",
    "import copy"
   ]
  },
  {
   "cell_type": "code",
   "execution_count": 5,
   "metadata": {},
   "outputs": [],
   "source": [
    "def getData(folder, filename): #I'm finally using python properly\n",
    "    rdr = ascii.get_reader(Reader=ascii.Basic)\n",
    "    rdr.header.splitter.delimiter = ' '\n",
    "    rdr.data.splitter.delimiter = ' '\n",
    "    if folder == 'DES_BLINDnoHOSTZ':\n",
    "        rdr.header.start_line = 12\n",
    "        rdr.data.start_line = 13\n",
    "    else:\n",
    "        rdr.header.start_line = 14\n",
    "        rdr.data.start_line = 15\n",
    "    rdr.data.end_line = None\n",
    "    \n",
    "    t = rdr.read('%s/%s' % (folder, filename))\n",
    "    FLT = t['FLT']\n",
    "    MJD = t['MJD']\n",
    "    IMJD = copy.deepcopy(MJD)\n",
    "    for i in range(len(IMJD)):\n",
    "        IMJD[i] = int(IMJD[i])\n",
    "    UIMJD, indices = np.unique(IMJD, return_index=True)\n",
    "    \n",
    "    obs_length = MJD[-1]-MJD[0]\n",
    "    \n",
    "    ts = np.zeros((50, 9))\n",
    "        \n",
    "    for i in range(len(indices)):\n",
    "        start = indices[i]\n",
    "        if i+1 < len(indices):\n",
    "            end = indices[i+1]\n",
    "        else: \n",
    "            end = len(MJD)\n",
    "        TMJD = 0\n",
    "        count = 0\n",
    "        for j in range(start,end): \n",
    "            error = t['FLUXCALERR'][j]\n",
    "            if error >= 0:\n",
    "                flux = t['FLUXCAL'][j]\n",
    "                TMJD += t['MJD'][j]\n",
    "                count += 1\n",
    "                if FLT[j] =='g':\n",
    "                    ts[i,1] = flux\n",
    "                    ts[i,5] = error\n",
    "                elif FLT[j] =='r':\n",
    "                    ts[i,2] = flux\n",
    "                    ts[i,6] = error\n",
    "                elif FLT[j] =='i':\n",
    "                    ts[i,3] = flux\n",
    "                    ts[i,7] = error\n",
    "                else:  # FLT[j] =='z'\n",
    "                    ts[i,4] = flux\n",
    "                    ts[i,8] = error\n",
    "\n",
    "        if TMJD != 0:\n",
    "            ts[i,0] = TMJD/count\n",
    "\n",
    "    offset = ts[0,0]\n",
    "    for i in range(len(indices)):\n",
    "        if ts[i,0] != 0: ts[i,0] -= offset\n",
    "    \n",
    "    return (ts,obs_length, len(indices))"
   ]
  },
  {
   "cell_type": "code",
   "execution_count": 6,
   "metadata": {},
   "outputs": [],
   "source": [
    "def getInfo(info, file):\n",
    "    for line in file:\n",
    "        if line.startswith('%s' % info):\n",
    "            return line[(len(info)+2)::] #might have extra spaces in front and it's a string\n",
    "    return None"
   ]
  },
  {
   "cell_type": "code",
   "execution_count": 7,
   "metadata": {},
   "outputs": [],
   "source": [
    "#choose which folder to work with\n",
    "folder= 'DES_BLINDnoHOSTZ'"
   ]
  },
  {
   "cell_type": "code",
   "execution_count": 8,
   "metadata": {},
   "outputs": [
    {
     "ename": "KeyboardInterrupt",
     "evalue": "",
     "output_type": "error",
     "traceback": [
      "\u001b[0;31m---------------------------------------------------------------------------\u001b[0m",
      "\u001b[0;31mKeyboardInterrupt\u001b[0m                         Traceback (most recent call last)",
      "\u001b[0;32m<ipython-input-8-c67864842a52>\u001b[0m in \u001b[0;36m<module>\u001b[0;34m()\u001b[0m\n\u001b[1;32m     23\u001b[0m     \u001b[0;32mwith\u001b[0m \u001b[0mopen\u001b[0m\u001b[0;34m(\u001b[0m\u001b[0mfolder\u001b[0m \u001b[0;34m+\u001b[0m \u001b[0;34m'/'\u001b[0m \u001b[0;34m+\u001b[0m \u001b[0mlist\u001b[0m\u001b[0;34m[\u001b[0m\u001b[0mcolName\u001b[0m\u001b[0;34m]\u001b[0m\u001b[0;34m[\u001b[0m\u001b[0mi\u001b[0m\u001b[0;34m]\u001b[0m\u001b[0;34m)\u001b[0m \u001b[0;32mas\u001b[0m \u001b[0mf\u001b[0m\u001b[0;34m:\u001b[0m\u001b[0;34m\u001b[0m\u001b[0m\n\u001b[1;32m     24\u001b[0m         \u001b[0mtable\u001b[0m\u001b[0;34m[\u001b[0m\u001b[0;34m'FILENAME'\u001b[0m\u001b[0;34m]\u001b[0m \u001b[0;34m+=\u001b[0m \u001b[0;34m[\u001b[0m\u001b[0mlist\u001b[0m\u001b[0;34m[\u001b[0m\u001b[0mcolName\u001b[0m\u001b[0;34m]\u001b[0m\u001b[0;34m[\u001b[0m\u001b[0mi\u001b[0m\u001b[0;34m]\u001b[0m\u001b[0;34m]\u001b[0m\u001b[0;34m\u001b[0m\u001b[0m\n\u001b[0;32m---> 25\u001b[0;31m         \u001b[0;34m(\u001b[0m\u001b[0mts\u001b[0m\u001b[0;34m,\u001b[0m\u001b[0mobs_length\u001b[0m\u001b[0;34m,\u001b[0m\u001b[0mnum__data_points\u001b[0m\u001b[0;34m)\u001b[0m \u001b[0;34m=\u001b[0m \u001b[0mgetData\u001b[0m\u001b[0;34m(\u001b[0m\u001b[0mfolder\u001b[0m\u001b[0;34m,\u001b[0m \u001b[0mlist\u001b[0m\u001b[0;34m[\u001b[0m\u001b[0mcolName\u001b[0m\u001b[0;34m]\u001b[0m\u001b[0;34m[\u001b[0m\u001b[0mi\u001b[0m\u001b[0;34m]\u001b[0m\u001b[0;34m)\u001b[0m\u001b[0;34m\u001b[0m\u001b[0m\n\u001b[0m\u001b[1;32m     26\u001b[0m         \u001b[0;32mif\u001b[0m \u001b[0mobs_length\u001b[0m \u001b[0;34m>=\u001b[0m \u001b[0mmax_obs_len\u001b[0m\u001b[0;34m:\u001b[0m \u001b[0mmax_obs_len\u001b[0m \u001b[0;34m=\u001b[0m \u001b[0mobs_length\u001b[0m\u001b[0;34m\u001b[0m\u001b[0m\n\u001b[1;32m     27\u001b[0m         \u001b[0mtable\u001b[0m\u001b[0;34m[\u001b[0m\u001b[0;34m'DATA'\u001b[0m\u001b[0;34m]\u001b[0m \u001b[0;34m+=\u001b[0m \u001b[0;34m[\u001b[0m\u001b[0mts\u001b[0m\u001b[0;34m]\u001b[0m\u001b[0;34m\u001b[0m\u001b[0m\n",
      "\u001b[0;32m<ipython-input-5-1ff4e4c5c71f>\u001b[0m in \u001b[0;36mgetData\u001b[0;34m(folder, filename)\u001b[0m\n\u001b[1;32m     11\u001b[0m     \u001b[0mrdr\u001b[0m\u001b[0;34m.\u001b[0m\u001b[0mdata\u001b[0m\u001b[0;34m.\u001b[0m\u001b[0mend_line\u001b[0m \u001b[0;34m=\u001b[0m \u001b[0;32mNone\u001b[0m\u001b[0;34m\u001b[0m\u001b[0m\n\u001b[1;32m     12\u001b[0m \u001b[0;34m\u001b[0m\u001b[0m\n\u001b[0;32m---> 13\u001b[0;31m     \u001b[0mt\u001b[0m \u001b[0;34m=\u001b[0m \u001b[0mrdr\u001b[0m\u001b[0;34m.\u001b[0m\u001b[0mread\u001b[0m\u001b[0;34m(\u001b[0m\u001b[0;34m'%s/%s'\u001b[0m \u001b[0;34m%\u001b[0m \u001b[0;34m(\u001b[0m\u001b[0mfolder\u001b[0m\u001b[0;34m,\u001b[0m \u001b[0mfilename\u001b[0m\u001b[0;34m)\u001b[0m\u001b[0;34m)\u001b[0m\u001b[0;34m\u001b[0m\u001b[0m\n\u001b[0m\u001b[1;32m     14\u001b[0m     \u001b[0mFLT\u001b[0m \u001b[0;34m=\u001b[0m \u001b[0mt\u001b[0m\u001b[0;34m[\u001b[0m\u001b[0;34m'FLT'\u001b[0m\u001b[0;34m]\u001b[0m\u001b[0;34m\u001b[0m\u001b[0m\n\u001b[1;32m     15\u001b[0m     \u001b[0mMJD\u001b[0m \u001b[0;34m=\u001b[0m \u001b[0mt\u001b[0m\u001b[0;34m[\u001b[0m\u001b[0;34m'MJD'\u001b[0m\u001b[0;34m]\u001b[0m\u001b[0;34m\u001b[0m\u001b[0m\n",
      "\u001b[0;32m/Library/Frameworks/Python.framework/Versions/3.6/lib/python3.6/site-packages/astropy/io/ascii/core.py\u001b[0m in \u001b[0;36mread\u001b[0;34m(self, table)\u001b[0m\n\u001b[1;32m   1184\u001b[0m                 \u001b[0mcol\u001b[0m\u001b[0;34m.\u001b[0m\u001b[0mstr_vals\u001b[0m\u001b[0;34m.\u001b[0m\u001b[0mappend\u001b[0m\u001b[0;34m(\u001b[0m\u001b[0mstr_vals\u001b[0m\u001b[0;34m[\u001b[0m\u001b[0mj\u001b[0m\u001b[0;34m]\u001b[0m\u001b[0;34m)\u001b[0m\u001b[0;34m\u001b[0m\u001b[0m\n\u001b[1;32m   1185\u001b[0m \u001b[0;34m\u001b[0m\u001b[0m\n\u001b[0;32m-> 1186\u001b[0;31m         \u001b[0mself\u001b[0m\u001b[0;34m.\u001b[0m\u001b[0mdata\u001b[0m\u001b[0;34m.\u001b[0m\u001b[0mmasks\u001b[0m\u001b[0;34m(\u001b[0m\u001b[0mcols\u001b[0m\u001b[0;34m)\u001b[0m\u001b[0;34m\u001b[0m\u001b[0m\n\u001b[0m\u001b[1;32m   1187\u001b[0m         \u001b[0;32mif\u001b[0m \u001b[0mhasattr\u001b[0m\u001b[0;34m(\u001b[0m\u001b[0mself\u001b[0m\u001b[0;34m.\u001b[0m\u001b[0mheader\u001b[0m\u001b[0;34m,\u001b[0m \u001b[0;34m'table_meta'\u001b[0m\u001b[0;34m)\u001b[0m\u001b[0;34m:\u001b[0m\u001b[0;34m\u001b[0m\u001b[0m\n\u001b[1;32m   1188\u001b[0m             \u001b[0mself\u001b[0m\u001b[0;34m.\u001b[0m\u001b[0mmeta\u001b[0m\u001b[0;34m[\u001b[0m\u001b[0;34m'table'\u001b[0m\u001b[0;34m]\u001b[0m\u001b[0;34m.\u001b[0m\u001b[0mupdate\u001b[0m\u001b[0;34m(\u001b[0m\u001b[0mself\u001b[0m\u001b[0;34m.\u001b[0m\u001b[0mheader\u001b[0m\u001b[0;34m.\u001b[0m\u001b[0mtable_meta\u001b[0m\u001b[0;34m)\u001b[0m\u001b[0;34m\u001b[0m\u001b[0m\n",
      "\u001b[0;32m/Library/Frameworks/Python.framework/Versions/3.6/lib/python3.6/site-packages/astropy/io/ascii/core.py\u001b[0m in \u001b[0;36mmasks\u001b[0;34m(self, cols)\u001b[0m\n\u001b[1;32m    731\u001b[0m         \u001b[0;32mif\u001b[0m \u001b[0mself\u001b[0m\u001b[0;34m.\u001b[0m\u001b[0mfill_values\u001b[0m\u001b[0;34m:\u001b[0m\u001b[0;34m\u001b[0m\u001b[0m\n\u001b[1;32m    732\u001b[0m             \u001b[0mself\u001b[0m\u001b[0;34m.\u001b[0m\u001b[0m_set_fill_values\u001b[0m\u001b[0;34m(\u001b[0m\u001b[0mcols\u001b[0m\u001b[0;34m)\u001b[0m\u001b[0;34m\u001b[0m\u001b[0m\n\u001b[0;32m--> 733\u001b[0;31m             \u001b[0mself\u001b[0m\u001b[0;34m.\u001b[0m\u001b[0m_set_masks\u001b[0m\u001b[0;34m(\u001b[0m\u001b[0mcols\u001b[0m\u001b[0;34m)\u001b[0m\u001b[0;34m\u001b[0m\u001b[0m\n\u001b[0m\u001b[1;32m    734\u001b[0m \u001b[0;34m\u001b[0m\u001b[0m\n\u001b[1;32m    735\u001b[0m     \u001b[0;32mdef\u001b[0m \u001b[0m_set_fill_values\u001b[0m\u001b[0;34m(\u001b[0m\u001b[0mself\u001b[0m\u001b[0;34m,\u001b[0m \u001b[0mcols\u001b[0m\u001b[0;34m)\u001b[0m\u001b[0;34m:\u001b[0m\u001b[0;34m\u001b[0m\u001b[0m\n",
      "\u001b[0;32m/Library/Frameworks/Python.framework/Versions/3.6/lib/python3.6/site-packages/astropy/io/ascii/core.py\u001b[0m in \u001b[0;36m_set_masks\u001b[0;34m(self, cols)\u001b[0m\n\u001b[1;32m    782\u001b[0m             \u001b[0;32mfor\u001b[0m \u001b[0mcol\u001b[0m \u001b[0;32min\u001b[0m \u001b[0;34m(\u001b[0m\u001b[0mcol\u001b[0m \u001b[0;32mfor\u001b[0m \u001b[0mcol\u001b[0m \u001b[0;32min\u001b[0m \u001b[0mcols\u001b[0m \u001b[0;32mif\u001b[0m \u001b[0mcol\u001b[0m\u001b[0;34m.\u001b[0m\u001b[0mfill_values\u001b[0m\u001b[0;34m)\u001b[0m\u001b[0;34m:\u001b[0m\u001b[0;34m\u001b[0m\u001b[0m\n\u001b[1;32m    783\u001b[0m                 \u001b[0mcol\u001b[0m\u001b[0;34m.\u001b[0m\u001b[0mmask\u001b[0m \u001b[0;34m=\u001b[0m \u001b[0mnumpy\u001b[0m\u001b[0;34m.\u001b[0m\u001b[0mzeros\u001b[0m\u001b[0;34m(\u001b[0m\u001b[0mlen\u001b[0m\u001b[0;34m(\u001b[0m\u001b[0mcol\u001b[0m\u001b[0;34m.\u001b[0m\u001b[0mstr_vals\u001b[0m\u001b[0;34m)\u001b[0m\u001b[0;34m,\u001b[0m \u001b[0mdtype\u001b[0m\u001b[0;34m=\u001b[0m\u001b[0mnumpy\u001b[0m\u001b[0;34m.\u001b[0m\u001b[0mbool\u001b[0m\u001b[0;34m)\u001b[0m\u001b[0;34m\u001b[0m\u001b[0m\n\u001b[0;32m--> 784\u001b[0;31m                 for i, str_val in ((i, x) for i, x in enumerate(col.str_vals)\n\u001b[0m\u001b[1;32m    785\u001b[0m                                    if x in col.fill_values):\n\u001b[1;32m    786\u001b[0m                     \u001b[0mcol\u001b[0m\u001b[0;34m.\u001b[0m\u001b[0mstr_vals\u001b[0m\u001b[0;34m[\u001b[0m\u001b[0mi\u001b[0m\u001b[0;34m]\u001b[0m \u001b[0;34m=\u001b[0m \u001b[0mcol\u001b[0m\u001b[0;34m.\u001b[0m\u001b[0mfill_values\u001b[0m\u001b[0;34m[\u001b[0m\u001b[0mstr_val\u001b[0m\u001b[0;34m]\u001b[0m\u001b[0;34m\u001b[0m\u001b[0m\n",
      "\u001b[0;32m/Library/Frameworks/Python.framework/Versions/3.6/lib/python3.6/site-packages/astropy/io/ascii/core.py\u001b[0m in \u001b[0;36m<genexpr>\u001b[0;34m(.0)\u001b[0m\n\u001b[1;32m    783\u001b[0m                 \u001b[0mcol\u001b[0m\u001b[0;34m.\u001b[0m\u001b[0mmask\u001b[0m \u001b[0;34m=\u001b[0m \u001b[0mnumpy\u001b[0m\u001b[0;34m.\u001b[0m\u001b[0mzeros\u001b[0m\u001b[0;34m(\u001b[0m\u001b[0mlen\u001b[0m\u001b[0;34m(\u001b[0m\u001b[0mcol\u001b[0m\u001b[0;34m.\u001b[0m\u001b[0mstr_vals\u001b[0m\u001b[0;34m)\u001b[0m\u001b[0;34m,\u001b[0m \u001b[0mdtype\u001b[0m\u001b[0;34m=\u001b[0m\u001b[0mnumpy\u001b[0m\u001b[0;34m.\u001b[0m\u001b[0mbool\u001b[0m\u001b[0;34m)\u001b[0m\u001b[0;34m\u001b[0m\u001b[0m\n\u001b[1;32m    784\u001b[0m                 for i, str_val in ((i, x) for i, x in enumerate(col.str_vals)\n\u001b[0;32m--> 785\u001b[0;31m                                    if x in col.fill_values):\n\u001b[0m\u001b[1;32m    786\u001b[0m                     \u001b[0mcol\u001b[0m\u001b[0;34m.\u001b[0m\u001b[0mstr_vals\u001b[0m\u001b[0;34m[\u001b[0m\u001b[0mi\u001b[0m\u001b[0;34m]\u001b[0m \u001b[0;34m=\u001b[0m \u001b[0mcol\u001b[0m\u001b[0;34m.\u001b[0m\u001b[0mfill_values\u001b[0m\u001b[0;34m[\u001b[0m\u001b[0mstr_val\u001b[0m\u001b[0;34m]\u001b[0m\u001b[0;34m\u001b[0m\u001b[0m\n\u001b[1;32m    787\u001b[0m                     \u001b[0mcol\u001b[0m\u001b[0;34m.\u001b[0m\u001b[0mmask\u001b[0m\u001b[0;34m[\u001b[0m\u001b[0mi\u001b[0m\u001b[0;34m]\u001b[0m \u001b[0;34m=\u001b[0m \u001b[0;32mTrue\u001b[0m\u001b[0;34m\u001b[0m\u001b[0m\n",
      "\u001b[0;31mKeyboardInterrupt\u001b[0m: "
     ]
    }
   ],
   "source": [
    "if folder == 'DES_BLINDnoHOSTZ':\n",
    "    colName = 'DES_SN000018.DAT'\n",
    "    totalNum = 18347\n",
    "    infoL = ['SURVEY','SNID', 'SNTYPE', 'FILTERS', 'RA', 'DECL', 'FAKE', 'MWEBV', 'REDSHIFT_SPE','NOBS', 'NVAR']\n",
    "else:\n",
    "    colName = 'DES_SN000041.DAT'\n",
    "    totalNum = 18320\n",
    "    infoL = ['SURVEY','SNID','SNTYPE','FILTERS','RA','DECL','FAKE','MWEBV','REDSHIFT_SPE','HOST_GALAXY_GALID','HOST_GALAXY_PHOTO-Z','NOBS','NVAR']\n",
    "\n",
    "list = ascii.read('%s/%s.LIST' % (folder, folder), data_start = 0)\n",
    "\n",
    "#Set up space to gather information\n",
    "table = dict()\n",
    "for i in infoL:\n",
    "    table[i] = []\n",
    "table['FILENAME'] = []\n",
    "table['DATA'] = []\n",
    "table['obs_length'] = []\n",
    "table['num_data_points'] = []\n",
    "max_obs_len = 0\n",
    "\n",
    "for i in range(totalNum):\n",
    "    with open(folder + '/' + list[colName][i]) as f:\n",
    "        table['FILENAME'] += [list[colName][i]]\n",
    "        (ts,obs_length,num__data_points) = getData(folder, list[colName][i])\n",
    "        if obs_length >= max_obs_len: max_obs_len = obs_length\n",
    "        table['DATA'] += [ts]\n",
    "        table['obs_length'] += [obs_length]\n",
    "        table['num_data_points'] += [num__data_points]\n",
    "        for j in infoL:\n",
    "            table[j] += [getInfo(j, f)]\n",
    "\n",
    "#Normalize observation length and MJDs so they are all between 0-1\n",
    "\n",
    "for i in range(totalNum):\n",
    "    for j in range(50):\n",
    "        table['DATA'][i][j][0] /= max_obs_len\n",
    "\n",
    "infoList = [table['FILENAME']]\n",
    "for i in infoL:\n",
    "    infoList += [table[i]]\n",
    "infoList += [table['DATA']]\n",
    "infoList += [table['obs_length']]\n",
    "infoList += [table['num_data_points']]"
   ]
  },
  {
   "cell_type": "code",
   "execution_count": 148,
   "metadata": {},
   "outputs": [],
   "source": [
    "output = Table(infoList, names = ['FILENAME']+infoL+['DATA']+['obs_length']+['num_data_points'])"
   ]
  },
  {
   "cell_type": "code",
   "execution_count": 149,
   "metadata": {},
   "outputs": [],
   "source": [
    "g_m = output['DATA'][:,:,1].flatten() != 0\n",
    "g_std = np.std(output['DATA'][:,:,1].flatten()[g_m])\n",
    "g_mean = np.mean(output['DATA'][:,:,1].flatten()[g_m])\n",
    "\n",
    "r_m = output['DATA'][:,:,2].flatten() != 0\n",
    "r_std = np.std(output['DATA'][:,:,2].flatten()[r_m])\n",
    "r_mean = np.mean(output['DATA'][:,:,2].flatten()[r_m])\n",
    "\n",
    "i_m = output['DATA'][:,:,3].flatten() != 0\n",
    "i_std = np.std(output['DATA'][:,:,3].flatten()[i_m])\n",
    "i_mean = np.mean(output['DATA'][:,:,3].flatten()[i_m])\n",
    "\n",
    "z_m = output['DATA'][:,:,4].flatten() != 0\n",
    "z_std = np.std(output['DATA'][:,:,4].flatten()[z_m])\n",
    "z_mean = np.mean(output['DATA'][:,:,4].flatten()[z_m])\n",
    "\n",
    "output['DATA'][:,:,1] -= g_mean\n",
    "output['DATA'][:,:,1] /= g_std\n",
    "output['DATA'][:,:,5] /= g_std\n",
    "\n",
    "output['DATA'][:,:,2] -= r_mean\n",
    "output['DATA'][:,:,2] /= r_std\n",
    "output['DATA'][:,:,6] /= r_std\n",
    "\n",
    "output['DATA'][:,:,3] -= i_mean\n",
    "output['DATA'][:,:,3] /= i_std\n",
    "output['DATA'][:,:,7] /= i_std\n",
    "\n",
    "output['DATA'][:,:,4] -= z_mean\n",
    "output['DATA'][:,:,4] /= z_std\n",
    "output['DATA'][:,:,8] /= z_std"
   ]
  },
  {
   "cell_type": "code",
   "execution_count": 180,
   "metadata": {},
   "outputs": [
    {
     "data": {
      "text/plain": [
       "(array([14291]),)"
      ]
     },
     "execution_count": 180,
     "metadata": {},
     "output_type": "execute_result"
    }
   ],
   "source": [
    "x = np.array(output['FILENAME'])\n",
    "np.where(x == 'DES_SN155300.DAT')"
   ]
  },
  {
   "cell_type": "code",
   "execution_count": 181,
   "metadata": {},
   "outputs": [
    {
     "name": "stdout",
     "output_type": "stream",
     "text": [
      "24\n"
     ]
    },
    {
     "data": {
      "image/png": "[encoded data removed]",
      "text/plain": [
       "<Figure size 432x288 with 1 Axes>"
      ]
     },
     "metadata": {
      "needs_background": "light"
     },
     "output_type": "display_data"
    }
   ],
   "source": [
    "a = 14291\n",
    "num = output['num_data_points'][a]\n",
    "MJD = output['DATA'][a,:num,0]\n",
    "print(num)\n",
    "\n",
    "g_FLUXCAL = output['DATA'][a,:num,1]\n",
    "r_FLUXCAL = output['DATA'][a,:num,2]\n",
    "i_FLUXCAL = output['DATA'][a,:num,3]\n",
    "z_FLUXCAL = output['DATA'][a,:num,4]\n",
    "\n",
    "g_err = output['DATA'][a,:num,5]\n",
    "r_err = output['DATA'][a,:num,6]\n",
    "i_err = output['DATA'][a,:num,7]\n",
    "z_err = output['DATA'][a,:num,8]\n",
    "\n",
    "plt.errorbar(MJD, g_FLUXCAL, g_err, capsize = 4, label='g',color = 'forestgreen') \n",
    "plt.errorbar(MJD, r_FLUXCAL, r_err, capsize = 4, label='r',color = 'coral')\n",
    "plt.errorbar(MJD, i_FLUXCAL, i_err, capsize = 4, label='i', color = 'indianred')\n",
    "plt.errorbar(MJD, z_FLUXCAL, z_err, capsize = 4, label='z', color = 'gray')\n",
    "plt.xlabel('Modified Julian Date')\n",
    "plt.ylabel('Calibrated Flux')\n",
    "\n",
    "plt.legend()\n",
    "plt.show()"
   ]
  },
  {
   "cell_type": "code",
   "execution_count": 138,
   "metadata": {},
   "outputs": [],
   "source": [
    "#output.write('normalized_good.fits')"
   ]
  },
  {
   "cell_type": "code",
   "execution_count": 143,
   "metadata": {},
   "outputs": [],
   "source": [
    "output.write('normalized_ahh.fits')"
   ]
  },
  {
   "cell_type": "code",
   "execution_count": null,
   "metadata": {},
   "outputs": [],
   "source": []
  }
 ],
 "metadata": {
  "kernelspec": {
   "display_name": "Python 3",
   "language": "python",
   "name": "python3"
  },
  "language_info": {
   "codemirror_mode": {
    "name": "ipython",
    "version": 3
   },
   "file_extension": ".py",
   "mimetype": "text/x-python",
   "name": "python",
   "nbconvert_exporter": "python",
   "pygments_lexer": "ipython3",
   "version": "3.6.5"
  }
 },
 "nbformat": 4,
 "nbformat_minor": 2
}
