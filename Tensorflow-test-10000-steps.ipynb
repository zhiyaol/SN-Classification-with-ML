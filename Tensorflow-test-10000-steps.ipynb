{
 "cells": [
  {
   "cell_type": "code",
   "execution_count": 2,
   "metadata": {},
   "outputs": [
    {
     "name": "stdout",
     "output_type": "stream",
     "text": [
      "Populating the interactive namespace from numpy and matplotlib\n"
     ]
    }
   ],
   "source": [
    "%pylab inline\n",
    "from astropy.table import Table\n",
    "from rnn import RNNClassifier\n",
    "import tensorflow as tf\n",
    "import matplotlib.pyplot as plt"
   ]
  },
  {
   "cell_type": "code",
   "execution_count": 3,
   "metadata": {},
   "outputs": [],
   "source": [
    "# Loading dataset\n",
    "data_table = Table.read('normalized_sub_mean.fits')"
   ]
  },
  {
   "cell_type": "code",
   "execution_count": 48,
   "metadata": {},
   "outputs": [
    {
     "data": {
      "text/html": [
       "<i>Table length=18347</i>\n",
       "<table id=\"table4863126328\" class=\"table-striped table-bordered table-condensed\">\n",
       "<thead><tr><th>FILENAME</th><th>SURVEY</th><th>SNID</th><th>SNTYPE</th><th>FILTERS</th><th>RA</th><th>DECL</th><th>FAKE</th><th>MWEBV</th><th>REDSHIFT_SPE</th><th>NOBS</th><th>NVAR</th><th>DATA [50,9]</th><th>obs_length</th><th>num_data_points</th><th>label</th></tr></thead>\n",
       "<thead><tr><th>bytes16</th><th>bytes7</th><th>bytes12</th><th>bytes5</th><th>bytes6</th><th>bytes21</th><th>bytes20</th><th>bytes35</th><th>bytes23</th><th>bytes25</th><th>bytes5</th><th>bytes3</th><th>float64</th><th>float64</th><th>int64</th><th>float64</th></tr></thead>\n",
       "<tr><td>DES_SN000018.DAT</td><td>DES</td><td>18</td><td>-9</td><td>griz</td><td>34.500000  deg</td><td>-5.500000  deg</td><td>3   (=&gt; BLIND-TEST simulation)</td><td>0.0227    MW E(B-V)</td><td>-9.0000 +-  9.0000</td><td>118</td><td>5</td><td>0.0 .. 0.0</td><td>145.8949999999968</td><td>41</td><td>0.0</td></tr>\n",
       "<tr><td>DES_SN000050.DAT</td><td>DES</td><td>50</td><td>-9</td><td>griz</td><td>36.750000  deg</td><td>-4.500000  deg</td><td>3   (=&gt; BLIND-TEST simulation)</td><td>0.0283    MW E(B-V)</td><td>-9.0000 +-  9.0000</td><td>16</td><td>5</td><td>0.0 .. 0.0</td><td>30.93000000000029</td><td>9</td><td>0.0</td></tr>\n",
       "<tr><td>DES_SN000051.DAT</td><td>DES</td><td>51</td><td>1</td><td>griz</td><td>52.500000  deg</td><td>-27.500000  deg</td><td>3   (=&gt; BLIND-TEST simulation)</td><td>0.0097    MW E(B-V)</td><td>0.5177 +-  0.0050</td><td>121</td><td>5</td><td>0.0 .. 0.0</td><td>126.88300000000163</td><td>33</td><td>1.0</td></tr>\n",
       "<tr><td>DES_SN000063.DAT</td><td>DES</td><td>63</td><td>-9</td><td>griz</td><td>34.500000  deg</td><td>-5.500000  deg</td><td>3   (=&gt; BLIND-TEST simulation)</td><td>0.0227    MW E(B-V)</td><td>-9.0000 +-  9.0000</td><td>115</td><td>5</td><td>0.0 .. 0.0</td><td>127.9409999999989</td><td>37</td><td>0.0</td></tr>\n",
       "<tr><td>DES_SN000064.DAT</td><td>DES</td><td>64</td><td>-9</td><td>griz</td><td>48.000000  deg</td><td>0.000000  deg</td><td>3   (=&gt; BLIND-TEST simulation)</td><td>0.0713    MW E(B-V)</td><td>-9.0000 +-  9.0000</td><td>92</td><td>5</td><td>0.0 .. 0.0</td><td>117.89800000000105</td><td>31</td><td>0.0</td></tr>\n",
       "<tr><td>DES_SN000096.DAT</td><td>DES</td><td>96</td><td>-9</td><td>griz</td><td>34.500000  deg</td><td>-5.500000  deg</td><td>3   (=&gt; BLIND-TEST simulation)</td><td>0.0227    MW E(B-V)</td><td>-9.0000 +-  9.0000</td><td>104</td><td>5</td><td>0.0 .. 0.0</td><td>119.87900000000081</td><td>37</td><td>0.0</td></tr>\n",
       "<tr><td>DES_SN000122.DAT</td><td>DES</td><td>122</td><td>-9</td><td>griz</td><td>34.500000  deg</td><td>-5.500000  deg</td><td>3   (=&gt; BLIND-TEST simulation)</td><td>0.0227    MW E(B-V)</td><td>-9.0000 +-  9.0000</td><td>11</td><td>5</td><td>0.0 .. 0.0</td><td>17.95300000000134</td><td>7</td><td>0.0</td></tr>\n",
       "<tr><td>DES_SN000124.DAT</td><td>DES</td><td>124</td><td>-9</td><td>griz</td><td>48.000000  deg</td><td>0.000000  deg</td><td>3   (=&gt; BLIND-TEST simulation)</td><td>0.0713    MW E(B-V)</td><td>-9.0000 +-  9.0000</td><td>95</td><td>5</td><td>0.0 .. 0.0</td><td>113.96500000000378</td><td>34</td><td>0.0</td></tr>\n",
       "<tr><td>DES_SN000156.DAT</td><td>DES</td><td>156</td><td>-9</td><td>griz</td><td>36.750000  deg</td><td>-4.500000  deg</td><td>3   (=&gt; BLIND-TEST simulation)</td><td>0.0283    MW E(B-V)</td><td>-9.0000 +-  9.0000</td><td>87</td><td>5</td><td>0.0 .. 0.0</td><td>96.0309999999954</td><td>25</td><td>0.0</td></tr>\n",
       "<tr><td>DES_SN000177.DAT</td><td>DES</td><td>177</td><td>-9</td><td>griz</td><td>0.500000  deg</td><td>-43.000000  deg</td><td>3   (=&gt; BLIND-TEST simulation)</td><td>0.0111    MW E(B-V)</td><td>-9.0000 +-  9.0000</td><td>45</td><td>5</td><td>0.0 .. 0.0</td><td>83.0150000000067</td><td>22</td><td>0.0</td></tr>\n",
       "<tr><td>...</td><td>...</td><td>...</td><td>...</td><td>...</td><td>...</td><td>...</td><td>...</td><td>...</td><td>...</td><td>...</td><td>...</td><td>...</td><td>...</td><td>...</td><td>...</td></tr>\n",
       "<tr><td>DES_SN199804.DAT</td><td>DES</td><td>199804</td><td>-9</td><td>griz</td><td>36.750000  deg</td><td>-4.500000  deg</td><td>3   (=&gt; BLIND-TEST simulation)</td><td>0.0283    MW E(B-V)</td><td>-9.0000 +-  9.0000</td><td>116</td><td>5</td><td>0.0 .. 0.0</td><td>159.85499999999593</td><td>41</td><td>0.0</td></tr>\n",
       "<tr><td>DES_SN199809.DAT</td><td>DES</td><td>199809</td><td>-9</td><td>griz</td><td>52.500000  deg</td><td>-27.500000  deg</td><td>3   (=&gt; BLIND-TEST simulation)</td><td>0.0097    MW E(B-V)</td><td>-9.0000 +-  9.0000</td><td>105</td><td>5</td><td>0.0 .. 0.0</td><td>100.92599999999948</td><td>28</td><td>0.0</td></tr>\n",
       "<tr><td>DES_SN199836.DAT</td><td>DES</td><td>199836</td><td>-9</td><td>griz</td><td>0.500000  deg</td><td>-43.000000  deg</td><td>3   (=&gt; BLIND-TEST simulation)</td><td>0.0111    MW E(B-V)</td><td>-9.0000 +-  9.0000</td><td>8</td><td>5</td><td>0.0 .. 0.0</td><td>12.992000000005646</td><td>3</td><td>0.0</td></tr>\n",
       "<tr><td>DES_SN199840.DAT</td><td>DES</td><td>199840</td><td>-9</td><td>griz</td><td>52.500000  deg</td><td>-27.500000  deg</td><td>3   (=&gt; BLIND-TEST simulation)</td><td>0.0097    MW E(B-V)</td><td>-9.0000 +-  9.0000</td><td>63</td><td>5</td><td>0.0 .. 0.0</td><td>93.06299999999464</td><td>18</td><td>0.0</td></tr>\n",
       "<tr><td>DES_SN199843.DAT</td><td>DES</td><td>199843</td><td>-9</td><td>griz</td><td>36.750000  deg</td><td>-4.500000  deg</td><td>3   (=&gt; BLIND-TEST simulation)</td><td>0.0283    MW E(B-V)</td><td>-9.0000 +-  9.0000</td><td>110</td><td>5</td><td>0.0 .. 0.0</td><td>155.88300000000163</td><td>38</td><td>0.0</td></tr>\n",
       "<tr><td>DES_SN199863.DAT</td><td>DES</td><td>199863</td><td>-9</td><td>griz</td><td>34.500000  deg</td><td>-5.500000  deg</td><td>3   (=&gt; BLIND-TEST simulation)</td><td>0.0227    MW E(B-V)</td><td>-9.0000 +-  9.0000</td><td>100</td><td>5</td><td>0.0 .. 0.0</td><td>113.98099999999977</td><td>35</td><td>0.0</td></tr>\n",
       "<tr><td>DES_SN199866.DAT</td><td>DES</td><td>199866</td><td>-9</td><td>griz</td><td>36.750000  deg</td><td>-4.500000  deg</td><td>3   (=&gt; BLIND-TEST simulation)</td><td>0.0283    MW E(B-V)</td><td>-9.0000 +-  9.0000</td><td>57</td><td>5</td><td>0.0 .. 0.0</td><td>105.96899999999732</td><td>27</td><td>0.0</td></tr>\n",
       "<tr><td>DES_SN199900.DAT</td><td>DES</td><td>199900</td><td>-9</td><td>griz</td><td>52.500000  deg</td><td>-27.500000  deg</td><td>3   (=&gt; BLIND-TEST simulation)</td><td>0.0097    MW E(B-V)</td><td>-9.0000 +-  9.0000</td><td>117</td><td>5</td><td>0.0 .. 0.0</td><td>123.03899999999703</td><td>32</td><td>0.0</td></tr>\n",
       "<tr><td>DES_SN199953.DAT</td><td>DES</td><td>199953</td><td>-9</td><td>griz</td><td>34.500000  deg</td><td>-5.500000  deg</td><td>3   (=&gt; BLIND-TEST simulation)</td><td>0.0227    MW E(B-V)</td><td>-9.0000 +-  9.0000</td><td>120</td><td>5</td><td>0.0 .. 0.0</td><td>139.89400000000023</td><td>40</td><td>0.0</td></tr>\n",
       "<tr><td>DES_SN199968.DAT</td><td>DES</td><td>199968</td><td>-9</td><td>griz</td><td>48.000000  deg</td><td>0.000000  deg</td><td>3   (=&gt; BLIND-TEST simulation)</td><td>0.0713    MW E(B-V)</td><td>-9.0000 +-  9.0000</td><td>109</td><td>5</td><td>0.0 .. 0.0</td><td>150.7890000000043</td><td>39</td><td>0.0</td></tr>\n",
       "</table>"
      ],
      "text/plain": [
       "<Table length=18347>\n",
       "    FILENAME      SURVEY     SNID     ... num_data_points  label \n",
       "    bytes16       bytes7   bytes12    ...      int64      float64\n",
       "---------------- ------- ------------ ... --------------- -------\n",
       "DES_SN000018.DAT DES   \n",
       "       18   \n",
       " ...              41     0.0\n",
       "DES_SN000050.DAT DES   \n",
       "       50   \n",
       " ...               9     0.0\n",
       "DES_SN000051.DAT DES   \n",
       "       51   \n",
       " ...              33     1.0\n",
       "DES_SN000063.DAT DES   \n",
       "       63   \n",
       " ...              37     0.0\n",
       "DES_SN000064.DAT DES   \n",
       "       64   \n",
       " ...              31     0.0\n",
       "DES_SN000096.DAT DES   \n",
       "       96   \n",
       " ...              37     0.0\n",
       "DES_SN000122.DAT DES   \n",
       "      122   \n",
       " ...               7     0.0\n",
       "DES_SN000124.DAT DES   \n",
       "      124   \n",
       " ...              34     0.0\n",
       "DES_SN000156.DAT DES   \n",
       "      156   \n",
       " ...              25     0.0\n",
       "DES_SN000177.DAT DES   \n",
       "      177   \n",
       " ...              22     0.0\n",
       "             ...     ...          ... ...             ...     ...\n",
       "DES_SN199804.DAT DES   \n",
       "   199804   \n",
       " ...              41     0.0\n",
       "DES_SN199809.DAT DES   \n",
       "   199809   \n",
       " ...              28     0.0\n",
       "DES_SN199836.DAT DES   \n",
       "   199836   \n",
       " ...               3     0.0\n",
       "DES_SN199840.DAT DES   \n",
       "   199840   \n",
       " ...              18     0.0\n",
       "DES_SN199843.DAT DES   \n",
       "   199843   \n",
       " ...              38     0.0\n",
       "DES_SN199863.DAT DES   \n",
       "   199863   \n",
       " ...              35     0.0\n",
       "DES_SN199866.DAT DES   \n",
       "   199866   \n",
       " ...              27     0.0\n",
       "DES_SN199900.DAT DES   \n",
       "   199900   \n",
       " ...              32     0.0\n",
       "DES_SN199953.DAT DES   \n",
       "   199953   \n",
       " ...              40     0.0\n",
       "DES_SN199968.DAT DES   \n",
       "   199968   \n",
       " ...              39     0.0"
      ]
     },
     "execution_count": 48,
     "metadata": {},
     "output_type": "execute_result"
    }
   ],
   "source": [
    "data_table"
   ]
  },
  {
   "cell_type": "code",
   "execution_count": 4,
   "metadata": {},
   "outputs": [],
   "source": [
    "# Splitting training and testing data\n",
    "randomize_inds = range(len(data_table))\n",
    "randomize_inds = permutation(randomize_inds)\n",
    "randomized_inds_train = randomize_inds[0:15000]\n",
    "randomized_inds_test  = randomize_inds[15000:]"
   ]
  },
  {
   "cell_type": "code",
   "execution_count": 5,
   "metadata": {},
   "outputs": [],
   "source": [
    "data_table['label'] = 1.0*(data_table['SNTYPE'].astype('int') == 1)"
   ]
  },
  {
   "cell_type": "code",
   "execution_count": 6,
   "metadata": {},
   "outputs": [],
   "source": [
    "# Define input function for training \n",
    "def input_fn_train():\n",
    "    def mapping_function(x):\n",
    "        def extract_batch(inds):\n",
    "            inds = randomized_inds_train[inds]\n",
    "            return data_table['label'][inds].astype('float32'), clip(data_table['num_data_points'][inds],0,49).astype('int32'),data_table['DATA'][inds].astype('float32') \n",
    "        a,b,c =tf.py_func( extract_batch, [x], [tf.float32, tf.int32, tf.float32])\n",
    "        a.set_shape([None])\n",
    "        b.set_shape([None])\n",
    "        c.set_shape([None,50,9])\n",
    "        return a,b,c\n",
    "\n",
    "    dataset = tf.data.Dataset.range(len(randomized_inds_train))\n",
    "    dataset = dataset.repeat().shuffle(10000).batch(512)\n",
    "    dataset = dataset.map( mapping_function)\n",
    "    iterator = dataset.make_one_shot_iterator()\n",
    "    label, length, ts = iterator.get_next()\n",
    "    return  {'length':length, 'ts':ts}, label\n",
    "\n",
    "def input_fn_train_test():\n",
    "    def mapping_function(x):\n",
    "        def extract_batch(inds):\n",
    "            inds = randomized_inds_train[inds]\n",
    "            return data_table['label'][inds].astype('float32'), clip(data_table['num_data_points'][inds],0,49).astype('int32'),data_table['DATA'][inds].astype('float32')\n",
    "        a,b,c =tf.py_func( extract_batch, [x], [tf.float32, tf.int32, tf.float32])\n",
    "        a.set_shape([None])\n",
    "        b.set_shape([None])\n",
    "        c.set_shape([None,50,9])\n",
    "        return a,b,c\n",
    "\n",
    "    dataset = tf.data.Dataset.range(len(randomized_inds_train))\n",
    "    dataset = dataset.batch(512)\n",
    "    dataset = dataset.map( mapping_function)\n",
    "    iterator = dataset.make_one_shot_iterator()\n",
    "    label, length, ts = iterator.get_next()\n",
    "    return  {'length':length, 'ts':ts}, label\n",
    "\n",
    "def input_fn_test():\n",
    "    def mapping_function(x):\n",
    "        def extract_batch(inds):\n",
    "            inds = randomized_inds_test[inds]\n",
    "            return data_table['label'][inds].astype('float32'), clip(data_table['num_data_points'][inds],0,49).astype('int32'),data_table['DATA'][inds].astype('float32') \n",
    "        a,b,c =tf.py_func( extract_batch, [x], [tf.float32, tf.int32, tf.float32])\n",
    "        a.set_shape([None])\n",
    "        b.set_shape([None])\n",
    "        c.set_shape([None,50,9])\n",
    "        return a,b,c\n",
    "\n",
    "    dataset = tf.data.Dataset.range(len(randomized_inds_test))\n",
    "    dataset = dataset.batch(512)\n",
    "    dataset = dataset.map( mapping_function)\n",
    "    iterator = dataset.make_one_shot_iterator()\n",
    "    label, length, ts = iterator.get_next()\n",
    "    return  {'length':length, 'ts':ts}, label"
   ]
  },
  {
   "cell_type": "code",
   "execution_count": 7,
   "metadata": {},
   "outputs": [
    {
     "name": "stdout",
     "output_type": "stream",
     "text": [
      "INFO:tensorflow:Using default config.\n",
      "INFO:tensorflow:Using config: {'_model_dir': 'tests/test_4', '_tf_random_seed': None, '_save_summary_steps': 100, '_save_checkpoints_steps': None, '_save_checkpoints_secs': 600, '_session_config': None, '_keep_checkpoint_max': 5, '_keep_checkpoint_every_n_hours': 10000, '_log_step_count_steps': 100, '_train_distribute': None, '_service': None, '_cluster_spec': <tensorflow.python.training.server_lib.ClusterSpec object at 0x121dd6438>, '_task_type': 'worker', '_task_id': 0, '_global_id_in_cluster': 0, '_master': '', '_evaluation_master': '', '_is_chief': True, '_num_ps_replicas': 0, '_num_worker_replicas': 1}\n"
     ]
    }
   ],
   "source": [
    "#model = RNNClassifier(hidden_units=[128, 128], dropout=1, model_dir='tests/test_1')\n",
    "#model = RNNClassifier(hidden_units=[128, 128], dropout=0.8, model_dir='tests/test_2')\n",
    "model = RNNClassifier(hidden_units=[128, 128], dropout=0.8, model_dir='tests/test_4')"
   ]
  },
  {
   "cell_type": "code",
   "execution_count": 7,
   "metadata": {},
   "outputs": [
    {
     "name": "stdout",
     "output_type": "stream",
     "text": [
      "INFO:tensorflow:Calling model_fn.\n",
      "INFO:tensorflow:Done calling model_fn.\n",
      "INFO:tensorflow:Create CheckpointSaverHook.\n",
      "INFO:tensorflow:Graph was finalized.\n",
      "INFO:tensorflow:Running local_init_op.\n",
      "INFO:tensorflow:Done running local_init_op.\n",
      "INFO:tensorflow:Saving checkpoints for 0 into tests/test_4/model.ckpt.\n",
      "INFO:tensorflow:loss = 0.691672, step = 0\n",
      "INFO:tensorflow:global_step/sec: 16.9999\n",
      "INFO:tensorflow:loss = 0.5060076, step = 100 (5.884 sec)\n",
      "INFO:tensorflow:global_step/sec: 17.6129\n",
      "INFO:tensorflow:loss = 0.23769264, step = 200 (5.678 sec)\n",
      "INFO:tensorflow:global_step/sec: 17.5954\n",
      "INFO:tensorflow:loss = 0.1952594, step = 300 (5.683 sec)\n",
      "INFO:tensorflow:global_step/sec: 17.5843\n",
      "INFO:tensorflow:loss = 0.21994564, step = 400 (5.687 sec)\n",
      "INFO:tensorflow:global_step/sec: 17.6138\n",
      "INFO:tensorflow:loss = 0.18144815, step = 500 (5.677 sec)\n",
      "INFO:tensorflow:global_step/sec: 17.6273\n",
      "INFO:tensorflow:loss = 0.1888588, step = 600 (5.673 sec)\n",
      "INFO:tensorflow:global_step/sec: 17.6585\n",
      "INFO:tensorflow:loss = 0.18555686, step = 700 (5.663 sec)\n",
      "INFO:tensorflow:global_step/sec: 17.6474\n",
      "INFO:tensorflow:loss = 0.13969928, step = 800 (5.667 sec)\n",
      "INFO:tensorflow:global_step/sec: 17.6811\n",
      "INFO:tensorflow:loss = 0.12852514, step = 900 (5.656 sec)\n",
      "INFO:tensorflow:global_step/sec: 17.6801\n",
      "INFO:tensorflow:loss = 0.14225405, step = 1000 (5.656 sec)\n",
      "INFO:tensorflow:global_step/sec: 17.6438\n",
      "INFO:tensorflow:loss = 0.14027862, step = 1100 (5.668 sec)\n",
      "INFO:tensorflow:global_step/sec: 17.6626\n",
      "INFO:tensorflow:loss = 0.15074748, step = 1200 (5.662 sec)\n",
      "INFO:tensorflow:global_step/sec: 17.66\n",
      "INFO:tensorflow:loss = 0.16310246, step = 1300 (5.663 sec)\n",
      "INFO:tensorflow:global_step/sec: 17.665\n",
      "INFO:tensorflow:loss = 0.12234993, step = 1400 (5.661 sec)\n",
      "INFO:tensorflow:global_step/sec: 17.6007\n",
      "INFO:tensorflow:loss = 0.15580006, step = 1500 (5.682 sec)\n",
      "INFO:tensorflow:global_step/sec: 17.6285\n",
      "INFO:tensorflow:loss = 0.1339233, step = 1600 (5.673 sec)\n",
      "INFO:tensorflow:global_step/sec: 17.6435\n",
      "INFO:tensorflow:loss = 0.1367273, step = 1700 (5.668 sec)\n",
      "INFO:tensorflow:global_step/sec: 17.6883\n",
      "INFO:tensorflow:loss = 0.12014388, step = 1800 (5.654 sec)\n",
      "INFO:tensorflow:global_step/sec: 17.5503\n",
      "INFO:tensorflow:loss = 0.11329265, step = 1900 (5.698 sec)\n",
      "INFO:tensorflow:global_step/sec: 17.643\n",
      "INFO:tensorflow:loss = 0.15829962, step = 2000 (5.668 sec)\n",
      "INFO:tensorflow:global_step/sec: 17.6744\n",
      "INFO:tensorflow:loss = 0.12248582, step = 2100 (5.658 sec)\n",
      "INFO:tensorflow:global_step/sec: 17.673\n",
      "INFO:tensorflow:loss = 0.08857945, step = 2200 (5.658 sec)\n",
      "INFO:tensorflow:global_step/sec: 17.5978\n",
      "INFO:tensorflow:loss = 0.17543846, step = 2300 (5.683 sec)\n",
      "INFO:tensorflow:global_step/sec: 17.6254\n",
      "INFO:tensorflow:loss = 0.11819294, step = 2400 (5.674 sec)\n",
      "INFO:tensorflow:global_step/sec: 17.6766\n",
      "INFO:tensorflow:loss = 0.135953, step = 2500 (5.657 sec)\n",
      "INFO:tensorflow:global_step/sec: 17.6121\n",
      "INFO:tensorflow:loss = 0.13763493, step = 2600 (5.678 sec)\n",
      "INFO:tensorflow:global_step/sec: 17.6095\n",
      "INFO:tensorflow:loss = 0.09381835, step = 2700 (5.679 sec)\n",
      "INFO:tensorflow:global_step/sec: 17.6447\n",
      "INFO:tensorflow:loss = 0.13830122, step = 2800 (5.667 sec)\n",
      "INFO:tensorflow:global_step/sec: 17.6579\n",
      "INFO:tensorflow:loss = 0.1207519, step = 2900 (5.663 sec)\n",
      "INFO:tensorflow:global_step/sec: 17.6417\n",
      "INFO:tensorflow:loss = 0.13606907, step = 3000 (5.668 sec)\n",
      "INFO:tensorflow:global_step/sec: 17.6296\n",
      "INFO:tensorflow:loss = 0.12807614, step = 3100 (5.672 sec)\n",
      "INFO:tensorflow:global_step/sec: 17.6586\n",
      "INFO:tensorflow:loss = 0.12857498, step = 3200 (5.663 sec)\n",
      "INFO:tensorflow:global_step/sec: 17.6611\n",
      "INFO:tensorflow:loss = 0.11085363, step = 3300 (5.662 sec)\n",
      "INFO:tensorflow:global_step/sec: 17.6495\n",
      "INFO:tensorflow:loss = 0.14611661, step = 3400 (5.666 sec)\n",
      "INFO:tensorflow:global_step/sec: 17.5932\n",
      "INFO:tensorflow:loss = 0.16023174, step = 3500 (5.684 sec)\n",
      "INFO:tensorflow:global_step/sec: 17.6733\n",
      "INFO:tensorflow:loss = 0.12875152, step = 3600 (5.658 sec)\n",
      "INFO:tensorflow:global_step/sec: 17.6232\n",
      "INFO:tensorflow:loss = 0.14397387, step = 3700 (5.674 sec)\n",
      "INFO:tensorflow:global_step/sec: 17.6209\n",
      "INFO:tensorflow:loss = 0.12025684, step = 3800 (5.675 sec)\n",
      "INFO:tensorflow:global_step/sec: 17.5904\n",
      "INFO:tensorflow:loss = 0.12983079, step = 3900 (5.685 sec)\n",
      "INFO:tensorflow:global_step/sec: 17.6689\n",
      "INFO:tensorflow:loss = 0.11351489, step = 4000 (5.660 sec)\n",
      "INFO:tensorflow:global_step/sec: 17.6385\n",
      "INFO:tensorflow:loss = 0.11873919, step = 4100 (5.669 sec)\n",
      "INFO:tensorflow:global_step/sec: 17.6514\n",
      "INFO:tensorflow:loss = 0.15706536, step = 4200 (5.665 sec)\n",
      "INFO:tensorflow:global_step/sec: 17.5918\n",
      "INFO:tensorflow:loss = 0.12989369, step = 4300 (5.685 sec)\n",
      "INFO:tensorflow:global_step/sec: 17.6323\n",
      "INFO:tensorflow:loss = 0.11751206, step = 4400 (5.671 sec)\n",
      "INFO:tensorflow:global_step/sec: 17.5929\n",
      "INFO:tensorflow:loss = 0.12234388, step = 4500 (5.684 sec)\n",
      "INFO:tensorflow:global_step/sec: 17.6595\n",
      "INFO:tensorflow:loss = 0.10226588, step = 4600 (5.663 sec)\n",
      "INFO:tensorflow:global_step/sec: 17.618\n",
      "INFO:tensorflow:loss = 0.10161628, step = 4700 (5.676 sec)\n",
      "INFO:tensorflow:global_step/sec: 17.639\n",
      "INFO:tensorflow:loss = 0.13343072, step = 4800 (5.669 sec)\n",
      "INFO:tensorflow:global_step/sec: 17.6229\n",
      "INFO:tensorflow:loss = 0.14297074, step = 4900 (5.674 sec)\n",
      "INFO:tensorflow:global_step/sec: 17.6454\n",
      "INFO:tensorflow:loss = 0.13152006, step = 5000 (5.667 sec)\n",
      "INFO:tensorflow:global_step/sec: 17.4979\n",
      "INFO:tensorflow:loss = 0.117082566, step = 5100 (5.715 sec)\n",
      "INFO:tensorflow:global_step/sec: 17.5471\n",
      "INFO:tensorflow:loss = 0.08118233, step = 5200 (5.699 sec)\n",
      "INFO:tensorflow:global_step/sec: 17.5619\n",
      "INFO:tensorflow:loss = 0.14137268, step = 5300 (5.694 sec)\n",
      "INFO:tensorflow:global_step/sec: 17.5971\n",
      "INFO:tensorflow:loss = 0.13035648, step = 5400 (5.683 sec)\n",
      "INFO:tensorflow:global_step/sec: 17.595\n",
      "INFO:tensorflow:loss = 0.11921743, step = 5500 (5.683 sec)\n",
      "INFO:tensorflow:global_step/sec: 17.579\n",
      "INFO:tensorflow:loss = 0.10405144, step = 5600 (5.689 sec)\n",
      "INFO:tensorflow:global_step/sec: 17.5559\n",
      "INFO:tensorflow:loss = 0.111891456, step = 5700 (5.696 sec)\n",
      "INFO:tensorflow:global_step/sec: 17.579\n",
      "INFO:tensorflow:loss = 0.14113595, step = 5800 (5.689 sec)\n",
      "INFO:tensorflow:global_step/sec: 17.6037\n",
      "INFO:tensorflow:loss = 0.11868166, step = 5900 (5.681 sec)\n",
      "INFO:tensorflow:global_step/sec: 17.6225\n",
      "INFO:tensorflow:loss = 0.10425879, step = 6000 (5.675 sec)\n",
      "INFO:tensorflow:global_step/sec: 17.6506\n",
      "INFO:tensorflow:loss = 0.114898905, step = 6100 (5.666 sec)\n",
      "INFO:tensorflow:global_step/sec: 17.6066\n",
      "INFO:tensorflow:loss = 0.12511726, step = 6200 (5.680 sec)\n",
      "INFO:tensorflow:global_step/sec: 17.6258\n",
      "INFO:tensorflow:loss = 0.10202786, step = 6300 (5.674 sec)\n",
      "INFO:tensorflow:global_step/sec: 17.5792\n",
      "INFO:tensorflow:loss = 0.12178702, step = 6400 (5.688 sec)\n",
      "INFO:tensorflow:global_step/sec: 17.6284\n",
      "INFO:tensorflow:loss = 0.12596527, step = 6500 (5.673 sec)\n",
      "INFO:tensorflow:global_step/sec: 17.5846\n",
      "INFO:tensorflow:loss = 0.10673693, step = 6600 (5.687 sec)\n",
      "INFO:tensorflow:global_step/sec: 17.6779\n",
      "INFO:tensorflow:loss = 0.120704785, step = 6700 (5.657 sec)\n",
      "INFO:tensorflow:global_step/sec: 17.6047\n",
      "INFO:tensorflow:loss = 0.13398239, step = 6800 (5.680 sec)\n",
      "INFO:tensorflow:global_step/sec: 17.6843\n",
      "INFO:tensorflow:loss = 0.100821026, step = 6900 (5.655 sec)\n",
      "INFO:tensorflow:global_step/sec: 17.6751\n",
      "INFO:tensorflow:loss = 0.13000226, step = 7000 (5.658 sec)\n",
      "INFO:tensorflow:global_step/sec: 17.6402\n",
      "INFO:tensorflow:loss = 0.14576086, step = 7100 (5.669 sec)\n",
      "INFO:tensorflow:global_step/sec: 17.6285\n",
      "INFO:tensorflow:loss = 0.13034053, step = 7200 (5.673 sec)\n",
      "INFO:tensorflow:global_step/sec: 17.6124\n",
      "INFO:tensorflow:loss = 0.09192179, step = 7300 (5.678 sec)\n",
      "INFO:tensorflow:global_step/sec: 17.6717\n",
      "INFO:tensorflow:loss = 0.12512985, step = 7400 (5.659 sec)\n",
      "INFO:tensorflow:global_step/sec: 17.6449\n",
      "INFO:tensorflow:loss = 0.12795867, step = 7500 (5.667 sec)\n",
      "INFO:tensorflow:global_step/sec: 17.651\n",
      "INFO:tensorflow:loss = 0.095010236, step = 7600 (5.665 sec)\n",
      "INFO:tensorflow:global_step/sec: 17.6139\n",
      "INFO:tensorflow:loss = 0.104270436, step = 7700 (5.677 sec)\n",
      "INFO:tensorflow:global_step/sec: 17.6239\n",
      "INFO:tensorflow:loss = 0.1302688, step = 7800 (5.674 sec)\n",
      "INFO:tensorflow:global_step/sec: 17.5786\n",
      "INFO:tensorflow:loss = 0.117331006, step = 7900 (5.689 sec)\n"
     ]
    },
    {
     "name": "stdout",
     "output_type": "stream",
     "text": [
      "INFO:tensorflow:global_step/sec: 17.6343\n",
      "INFO:tensorflow:loss = 0.14173366, step = 8000 (5.671 sec)\n",
      "INFO:tensorflow:global_step/sec: 17.6389\n",
      "INFO:tensorflow:loss = 0.107688025, step = 8100 (5.669 sec)\n",
      "INFO:tensorflow:global_step/sec: 17.6835\n",
      "INFO:tensorflow:loss = 0.12958519, step = 8200 (5.655 sec)\n",
      "INFO:tensorflow:global_step/sec: 17.6531\n",
      "INFO:tensorflow:loss = 0.13616973, step = 8300 (5.665 sec)\n",
      "INFO:tensorflow:global_step/sec: 17.6072\n",
      "INFO:tensorflow:loss = 0.110651605, step = 8400 (5.680 sec)\n",
      "INFO:tensorflow:global_step/sec: 17.6743\n",
      "INFO:tensorflow:loss = 0.12912667, step = 8500 (5.658 sec)\n",
      "INFO:tensorflow:global_step/sec: 17.6172\n",
      "INFO:tensorflow:loss = 0.13393885, step = 8600 (5.676 sec)\n",
      "INFO:tensorflow:global_step/sec: 17.6219\n",
      "INFO:tensorflow:loss = 0.10502879, step = 8700 (5.675 sec)\n",
      "INFO:tensorflow:global_step/sec: 17.6563\n",
      "INFO:tensorflow:loss = 0.11904025, step = 8800 (5.664 sec)\n",
      "INFO:tensorflow:global_step/sec: 17.5821\n",
      "INFO:tensorflow:loss = 0.11658929, step = 8900 (5.688 sec)\n",
      "INFO:tensorflow:global_step/sec: 17.6873\n",
      "INFO:tensorflow:loss = 0.09659508, step = 9000 (5.654 sec)\n",
      "INFO:tensorflow:global_step/sec: 17.6188\n",
      "INFO:tensorflow:loss = 0.089395694, step = 9100 (5.676 sec)\n",
      "INFO:tensorflow:global_step/sec: 17.6614\n",
      "INFO:tensorflow:loss = 0.079444654, step = 9200 (5.662 sec)\n",
      "INFO:tensorflow:global_step/sec: 17.5956\n",
      "INFO:tensorflow:loss = 0.13620134, step = 9300 (5.683 sec)\n",
      "INFO:tensorflow:global_step/sec: 17.6543\n",
      "INFO:tensorflow:loss = 0.10706812, step = 9400 (5.664 sec)\n",
      "INFO:tensorflow:global_step/sec: 17.6777\n",
      "INFO:tensorflow:loss = 0.11187582, step = 9500 (5.657 sec)\n",
      "INFO:tensorflow:global_step/sec: 17.6675\n",
      "INFO:tensorflow:loss = 0.12805632, step = 9600 (5.660 sec)\n",
      "INFO:tensorflow:global_step/sec: 17.6501\n",
      "INFO:tensorflow:loss = 0.11429542, step = 9700 (5.666 sec)\n",
      "INFO:tensorflow:global_step/sec: 17.6197\n",
      "INFO:tensorflow:loss = 0.13225311, step = 9800 (5.675 sec)\n",
      "INFO:tensorflow:global_step/sec: 17.5847\n",
      "INFO:tensorflow:loss = 0.09795045, step = 9900 (5.687 sec)\n",
      "INFO:tensorflow:Saving checkpoints for 10000 into tests/test_4/model.ckpt.\n",
      "INFO:tensorflow:Loss for final step: 0.111509815.\n"
     ]
    },
    {
     "data": {
      "text/plain": [
       "<rnn.RNNClassifier at 0x7f1b08f59e80>"
      ]
     },
     "execution_count": 7,
     "metadata": {},
     "output_type": "execute_result"
    }
   ],
   "source": [
    "model.train(input_fn=input_fn_train, steps=10000)"
   ]
  },
  {
   "cell_type": "code",
   "execution_count": 8,
   "metadata": {},
   "outputs": [
    {
     "name": "stdout",
     "output_type": "stream",
     "text": [
      "INFO:tensorflow:Calling model_fn.\n",
      "INFO:tensorflow:Done calling model_fn.\n",
      "INFO:tensorflow:Graph was finalized.\n",
      "INFO:tensorflow:Restoring parameters from tests/test_4/model.ckpt-10000\n",
      "INFO:tensorflow:Running local_init_op.\n",
      "INFO:tensorflow:Done running local_init_op.\n"
     ]
    }
   ],
   "source": [
    "# Apply model to test set\n",
    "test_prob = [p['prob'] for p in model.predict(input_fn_test)]\n",
    "table_test = data_table[randomized_inds_test]\n",
    "table_test['p'] = test_prob"
   ]
  },
  {
   "cell_type": "code",
   "execution_count": 9,
   "metadata": {},
   "outputs": [
    {
     "name": "stdout",
     "output_type": "stream",
     "text": [
      "INFO:tensorflow:Calling model_fn.\n",
      "INFO:tensorflow:Done calling model_fn.\n",
      "INFO:tensorflow:Graph was finalized.\n",
      "INFO:tensorflow:Restoring parameters from tests/test_4/model.ckpt-10000\n",
      "INFO:tensorflow:Running local_init_op.\n",
      "INFO:tensorflow:Done running local_init_op.\n"
     ]
    }
   ],
   "source": [
    "# Apply model to training set\n",
    "train_prob = [p['prob'] for p in model.predict(input_fn_train_test)]\n",
    "table_train = data_table[randomized_inds_train]\n",
    "table_train['p'] = train_prob"
   ]
  },
  {
   "cell_type": "code",
   "execution_count": 10,
   "metadata": {},
   "outputs": [
    {
     "data": {
      "image/png": "[encoded data removed]",
      "text/plain": [
       "<Figure size 432x288 with 1 Axes>"
      ]
     },
     "metadata": {},
     "output_type": "display_data"
    }
   ],
   "source": [
    "hist(test_prob,100);"
   ]
  },
  {
   "cell_type": "code",
   "execution_count": 11,
   "metadata": {},
   "outputs": [
    {
     "data": {
      "image/png": "[encoded data removed]",
      "text/plain": [
       "<Figure size 432x288 with 1 Axes>"
      ]
     },
     "metadata": {},
     "output_type": "display_data"
    }
   ],
   "source": [
    "hist(train_prob,100);"
   ]
  },
  {
   "cell_type": "code",
   "execution_count": 12,
   "metadata": {},
   "outputs": [
    {
     "name": "stderr",
     "output_type": "stream",
     "text": [
      "/Library/Frameworks/Python.framework/Versions/3.6/lib/python3.6/site-packages/matplotlib/cbook/deprecation.py:107: MatplotlibDeprecationWarning: Passing one of 'on', 'true', 'off', 'false' as a boolean is deprecated; use an actual boolean (True/False) instead.\n",
      "  warnings.warn(message, mplDeprecation, stacklevel=1)\n"
     ]
    },
    {
     "data": {
      "text/plain": [
       "(0, 1)"
      ]
     },
     "execution_count": 12,
     "metadata": {},
     "output_type": "execute_result"
    },
    {
     "data": {
      "image/png": "[encoded data removed]",
      "text/plain": [
       "<Figure size 432x288 with 1 Axes>"
      ]
     },
     "metadata": {},
     "output_type": "display_data"
    }
   ],
   "source": [
    "# Compute ROC curves \n",
    "from sklearn.metrics import roc_curve\n",
    "\n",
    "fpr1, tpr1, thr1 = roc_curve(table_train['label'], table_train['p'])\n",
    "fpr2, tpr2, thr2 = roc_curve(table_test['label'], table_test['p'])\n",
    "\n",
    "plot(fpr1, tpr1,label='training set')\n",
    "plot(fpr2, tpr2,label='testing set')\n",
    "title(\"roc curve fp_tp\")\n",
    "xlabel('false positive rate')\n",
    "ylabel('true positive rate')\n",
    "grid('on')\n",
    "#xscale('log')\n",
    "legend()\n",
    "axhline(0.661)\n",
    "xlim(0,1)\n",
    "ylim(0,1)"
   ]
  },
  {
   "cell_type": "code",
   "execution_count": 13,
   "metadata": {},
   "outputs": [],
   "source": [
    "from sklearn.metrics import roc_auc_score"
   ]
  },
  {
   "cell_type": "code",
   "execution_count": 14,
   "metadata": {},
   "outputs": [
    {
     "data": {
      "text/plain": [
       "0.9287251893668333"
      ]
     },
     "execution_count": 14,
     "metadata": {},
     "output_type": "execute_result"
    }
   ],
   "source": [
    "roc_auc_score(table_train['label'], table_train['p'])"
   ]
  },
  {
   "cell_type": "code",
   "execution_count": 15,
   "metadata": {},
   "outputs": [
    {
     "data": {
      "text/plain": [
       "0.9333696128270133"
      ]
     },
     "execution_count": 15,
     "metadata": {},
     "output_type": "execute_result"
    }
   ],
   "source": [
    "roc_auc_score(table_test['label'], table_test['p'])"
   ]
  },
  {
   "cell_type": "code",
   "execution_count": 16,
   "metadata": {},
   "outputs": [
    {
     "name": "stderr",
     "output_type": "stream",
     "text": [
      "/Library/Frameworks/Python.framework/Versions/3.6/lib/python3.6/site-packages/matplotlib/cbook/deprecation.py:107: MatplotlibDeprecationWarning: Passing one of 'on', 'true', 'off', 'false' as a boolean is deprecated; use an actual boolean (True/False) instead.\n",
      "  warnings.warn(message, mplDeprecation, stacklevel=1)\n"
     ]
    },
    {
     "data": {
      "text/plain": [
       "<matplotlib.lines.Line2D at 0x127464940>"
      ]
     },
     "execution_count": 16,
     "metadata": {},
     "output_type": "execute_result"
    },
    {
     "data": {
      "image/png": "[encoded data removed]",
      "text/plain": [
       "<Figure size 432x288 with 1 Axes>"
      ]
     },
     "metadata": {},
     "output_type": "display_data"
    }
   ],
   "source": [
    "plot(thr1,fpr1,label='train')\n",
    "plot(thr2, fpr2,label='test')\n",
    "title(\"roc curve thr_fp\")\n",
    "xlabel('threshold')\n",
    "ylabel('false positive rate')\n",
    "grid('on')\n",
    "legend()\n",
    "axvline(0.0043)"
   ]
  },
  {
   "cell_type": "code",
   "execution_count": 17,
   "metadata": {},
   "outputs": [
    {
     "name": "stderr",
     "output_type": "stream",
     "text": [
      "/Library/Frameworks/Python.framework/Versions/3.6/lib/python3.6/site-packages/matplotlib/cbook/deprecation.py:107: MatplotlibDeprecationWarning: Passing one of 'on', 'true', 'off', 'false' as a boolean is deprecated; use an actual boolean (True/False) instead.\n",
      "  warnings.warn(message, mplDeprecation, stacklevel=1)\n"
     ]
    },
    {
     "data": {
      "text/plain": [
       "<matplotlib.lines.Line2D at 0x12868ec88>"
      ]
     },
     "execution_count": 17,
     "metadata": {},
     "output_type": "execute_result"
    },
    {
     "data": {
      "image/png": "[encoded data removed]",
      "text/plain": [
       "<Figure size 432x288 with 1 Axes>"
      ]
     },
     "metadata": {},
     "output_type": "display_data"
    }
   ],
   "source": [
    "plot(thr1,tpr1,label='train')\n",
    "plot(thr2, tpr2,label='test')\n",
    "title(\"roc curve thr_tp\")\n",
    "xlabel('threshold')\n",
    "ylabel('true positive rate')\n",
    "grid('on')\n",
    "legend()\n",
    "axvline(0.0043)"
   ]
  },
  {
   "cell_type": "code",
   "execution_count": 18,
   "metadata": {},
   "outputs": [
    {
     "name": "stdout",
     "output_type": "stream",
     "text": [
      "fp: 448\n",
      "fn: 13\n",
      "tp: 128\n",
      "tn: 2758\n",
      "p: 141\n",
      "n: 3206\n",
      "fpr: 0.13973799126637554\n",
      "tpr: 0.9078014184397163\n"
     ]
    }
   ],
   "source": [
    "threshold=0.083\n",
    "# Splits the testing set\n",
    "FP = (table_test['p'] > threshold) * (table_test['label'] == 0)\n",
    "TP = (table_test['p'] > threshold) * (table_test['label'] == 1)\n",
    "FN = (table_test['p'] < threshold) * (table_test['label'] == 1)\n",
    "TN = (table_test['p'] < threshold) * (table_test['label'] == 0)\n",
    "\n",
    "P = (table_test['label'] == 1)\n",
    "N = (table_test['label'] == 0)\n",
    "\n",
    "t_fp = table_test[FP]\n",
    "t_fn = table_test[FN]\n",
    "t_tp = table_test[TP]\n",
    "t_tn = table_test[TN]\n",
    "t_p = table_test[P]\n",
    "t_n = table_test[N]\n",
    "\n",
    "fpr = len(t_fp)/len(t_n)\n",
    "tpr = len(t_tp)/len(t_p)\n",
    "\n",
    "print(\"fp: \" + str(len(t_fp)))\n",
    "print(\"fn: \" + str(len(t_fn)))\n",
    "print(\"tp: \" + str(len(t_tp)))\n",
    "print(\"tn: \" + str(len(t_tn)))\n",
    "print(\"p: \" + str(len(t_p)))\n",
    "print(\"n: \" + str(len(t_n)))\n",
    "print(\"fpr: \" + str(fpr))\n",
    "print(\"tpr: \" + str(tpr))"
   ]
  },
  {
   "cell_type": "code",
   "execution_count": 19,
   "metadata": {},
   "outputs": [
    {
     "data": {
      "text/plain": [
       "array([False, False, False, ..., False,  True, False])"
      ]
     },
     "execution_count": 19,
     "metadata": {},
     "output_type": "execute_result"
    }
   ],
   "source": [
    "FP"
   ]
  },
  {
   "cell_type": "code",
   "execution_count": 49,
   "metadata": {},
   "outputs": [
    {
     "data": {
      "text/plain": [
       "array([False, False, False, ..., False, False, False])"
      ]
     },
     "execution_count": 49,
     "metadata": {},
     "output_type": "execute_result"
    }
   ],
   "source": [
    "FN"
   ]
  },
  {
   "cell_type": "code",
   "execution_count": 20,
   "metadata": {},
   "outputs": [],
   "source": [
    "FP_table = table_test[FP] #misclassified ones --  False Positives"
   ]
  },
  {
   "cell_type": "code",
   "execution_count": 21,
   "metadata": {},
   "outputs": [],
   "source": [
    "FN_table = table_test[FN] #misclassified ones --  False Negatives"
   ]
  },
  {
   "cell_type": "code",
   "execution_count": 72,
   "metadata": {},
   "outputs": [],
   "source": [
    "output = FP_table\n",
    "plot_ind = 299"
   ]
  },
  {
   "cell_type": "code",
   "execution_count": 73,
   "metadata": {},
   "outputs": [
    {
     "data": {
      "image/png": "[encoded data removed]",
      "text/plain": [
       "<Figure size 432x288 with 1 Axes>"
      ]
     },
     "metadata": {},
     "output_type": "display_data"
    }
   ],
   "source": [
    "MJD = output['DATA'][plot_ind,:,0]\n",
    "\n",
    "g_FLUXCAL = output['DATA'][plot_ind,:,1]\n",
    "r_FLUXCAL = output['DATA'][plot_ind,:,2]\n",
    "i_FLUXCAL = output['DATA'][plot_ind,:,3]\n",
    "z_FLUXCAL = output['DATA'][plot_ind,:,4]\n",
    "\n",
    "g_err = output['DATA'][plot_ind,:,5]\n",
    "r_err = output['DATA'][plot_ind,:,6]\n",
    "i_err = output['DATA'][plot_ind,:,7]\n",
    "z_err = output['DATA'][plot_ind,:,8]\n",
    "\n",
    "plt.errorbar(MJD, g_FLUXCAL, g_err, capsize = 4, label='g',color = 'forestgreen') \n",
    "plt.errorbar(MJD, r_FLUXCAL, r_err, capsize = 4, label='r',color = 'coral')\n",
    "plt.errorbar(MJD, i_FLUXCAL, i_err, capsize = 4, label='i', color = 'indianred')\n",
    "plt.errorbar(MJD, z_FLUXCAL, z_err, capsize = 4, label='z', color = 'gray')\n",
    "plt.xlabel('Modified Julian Date')\n",
    "plt.ylabel('Calibrated Flux')\n",
    "\n",
    "plt.legend()\n",
    "plt.show()"
   ]
  },
  {
   "cell_type": "code",
   "execution_count": null,
   "metadata": {},
   "outputs": [],
   "source": []
  }
 ],
 "metadata": {
  "kernelspec": {
   "display_name": "Python 3",
   "language": "python",
   "name": "python3"
  },
  "language_info": {
   "codemirror_mode": {
    "name": "ipython",
    "version": 3
   },
   "file_extension": ".py",
   "mimetype": "text/x-python",
   "name": "python",
   "nbconvert_exporter": "python",
   "pygments_lexer": "ipython3",
   "version": "3.6.5"
  }
 },
 "nbformat": 4,
 "nbformat_minor": 2
}
